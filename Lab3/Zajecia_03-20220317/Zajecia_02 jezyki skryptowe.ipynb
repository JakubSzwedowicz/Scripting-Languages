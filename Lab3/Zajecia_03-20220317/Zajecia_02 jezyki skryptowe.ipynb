{
 "cells": [
  {
   "cell_type": "markdown",
   "id": "edbe682d",
   "metadata": {},
   "source": [
    "### 1. Przestrzenie nazw i zakresy\n",
    "\n",
    "### 2. Reguła LEGB\n",
    "\n",
    "* Local - zakes lokalny  - nazwy widoczne jedynie z poziomu funkcji przy jej wywołaniu.\n",
    "* Enclosing (nonlocal) - zakres obejmujący - dla funkcji zagnieżdżonych\n",
    "* Global - zakres globany (najwyższy zasięg)\n",
    "* Built-n - zakres wbudowany (funkcje, moduły, metody wbudowane w Python) - dostępne z każdego poziomu."
   ]
  },
  {
   "cell_type": "code",
   "execution_count": 17,
   "id": "5063f816",
   "metadata": {},
   "outputs": [
    {
     "name": "stdout",
     "output_type": "stream",
     "text": [
      "Zmianna var1: Python.\n",
      "Zmianna var1: C++.\n",
      "Zmianna var1: Python.\n"
     ]
    }
   ],
   "source": [
    "# Przykład  - przeanalizuj wywoływanie zmiennych.\n",
    "\n",
    "def sample_function():\n",
    "    var1 = 'Python'\n",
    "\n",
    "    def inner_function():   \n",
    "        var1 = \"C++\"\n",
    "        print('Zmianna var1: {0:s}.'.format(var1))\n",
    "\n",
    "\n",
    "    print('Zmianna var1: {0:s}.'.format(var1))\n",
    "\n",
    "    inner_function()\n",
    "    print('Zmianna var1: {0:s}.'.format(var1))\n",
    "\n",
    "sample_function()"
   ]
  },
  {
   "cell_type": "code",
   "execution_count": 2,
   "id": "d8765010",
   "metadata": {},
   "outputs": [
    {
     "name": "stdout",
     "output_type": "stream",
     "text": [
      "10\n",
      "Python\n",
      "10\n"
     ]
    }
   ],
   "source": [
    "var1 = 10                 #Przeanalizuj przykład\n",
    "\n",
    "\n",
    "def sample_function():\n",
    "    var1 = 'Python'\n",
    "    print(var1)\n",
    "    \n",
    "print(var1)\n",
    "sample_function()\n",
    "print(var1)"
   ]
  },
  {
   "cell_type": "markdown",
   "id": "000467db",
   "metadata": {},
   "source": [
    "#### 2.1. Instrukcja global"
   ]
  },
  {
   "cell_type": "code",
   "execution_count": 19,
   "id": "ea7d35b4",
   "metadata": {},
   "outputs": [
    {
     "name": "stdout",
     "output_type": "stream",
     "text": [
      "10\n",
      "4\n"
     ]
    }
   ],
   "source": [
    "#var1 = 4\n",
    "\n",
    "def sample():\n",
    "    var1 = 10\n",
    "    print(var1)\n",
    "sample()\n",
    "\n",
    "#print(var1)      #sprawdz wywołanie\n"
   ]
  },
  {
   "cell_type": "code",
   "execution_count": 4,
   "id": "e8c7db20",
   "metadata": {},
   "outputs": [
    {
     "name": "stdout",
     "output_type": "stream",
     "text": [
      "10\n",
      "10\n"
     ]
    }
   ],
   "source": [
    "def sample():\n",
    "    global var1      #Z poziomu funkcji definiujemy zmienną, która ma byc globalna\n",
    "    var1 = 10\n",
    "    print(var1)\n",
    "sample()\n",
    "\n",
    "print(var1)      #sprawdz wywołanie\n"
   ]
  },
  {
   "cell_type": "code",
   "execution_count": 5,
   "id": "c6557c4b",
   "metadata": {},
   "outputs": [
    {
     "name": "stdout",
     "output_type": "stream",
     "text": [
      "20\n"
     ]
    }
   ],
   "source": [
    "var1 = 20\n",
    "\n",
    "def sample():\n",
    "    print(var1)\n",
    "    \n",
    "sample()       #Sprawdz wywołanie"
   ]
  },
  {
   "cell_type": "code",
   "execution_count": 6,
   "id": "66f2c4f7",
   "metadata": {},
   "outputs": [
    {
     "name": "stdout",
     "output_type": "stream",
     "text": [
      "60\n"
     ]
    }
   ],
   "source": [
    "var1 = 20\n",
    "\n",
    "def sample():\n",
    "    var1 = 60\n",
    "    print(var1)\n",
    "    \n",
    "sample()       #Sprawdz wywołanie"
   ]
  },
  {
   "cell_type": "code",
   "execution_count": 7,
   "id": "15f366fc",
   "metadata": {},
   "outputs": [
    {
     "name": "stdout",
     "output_type": "stream",
     "text": [
      "60\n",
      "60\n"
     ]
    }
   ],
   "source": [
    "var1 = 20\n",
    "\n",
    "def sample():\n",
    "    global var1\n",
    "    var1 = 60\n",
    "    print(var1)\n",
    "    \n",
    "sample()       #Sprawdz wywołanie\n",
    "\n",
    "print(var1)"
   ]
  },
  {
   "cell_type": "code",
   "execution_count": 8,
   "id": "cde32195",
   "metadata": {},
   "outputs": [
    {
     "name": "stdout",
     "output_type": "stream",
     "text": [
      "60\n",
      "60\n"
     ]
    }
   ],
   "source": [
    "var1 = 20\n",
    "\n",
    "def sample():\n",
    "    global var1\n",
    "    var1 = 60\n",
    "    print(var1)\n",
    "    \n",
    "sample()       #Sprawdz wywołanie\n",
    "\n",
    "print(var1)\n"
   ]
  },
  {
   "cell_type": "code",
   "execution_count": 9,
   "id": "205e25ff",
   "metadata": {},
   "outputs": [
    {
     "name": "stdout",
     "output_type": "stream",
     "text": [
      "3 4\n",
      "3 4\n"
     ]
    }
   ],
   "source": [
    "def sample():\n",
    "    global var1, var2         #Definiowanie zmiennych globalnych z poziomu funkcji jest możliwe, ale raczej tego nie robimy, nie jest to dobra praktyka.\n",
    "    var1 = 3\n",
    "    var2 = 4\n",
    "    print(var1, var2)\n",
    "sample()\n",
    "print(var1, var2)"
   ]
  },
  {
   "cell_type": "markdown",
   "id": "2a480436",
   "metadata": {},
   "source": [
    "#### 2.2. Instrukcja nonlocal"
   ]
  },
  {
   "cell_type": "code",
   "execution_count": 10,
   "id": "1158045d",
   "metadata": {},
   "outputs": [
    {
     "name": "stdout",
     "output_type": "stream",
     "text": [
      "20\n"
     ]
    }
   ],
   "source": [
    "def sample():\n",
    "    var1 = 20\n",
    "    \n",
    "    def inner():\n",
    "        print(var1)\n",
    "    inner()                      #Sprawdz wywołanie\n",
    "sample()"
   ]
  },
  {
   "cell_type": "code",
   "execution_count": 11,
   "id": "9bb6335f",
   "metadata": {},
   "outputs": [
    {
     "name": "stdout",
     "output_type": "stream",
     "text": [
      "50\n",
      "20\n"
     ]
    }
   ],
   "source": [
    "def sample():\n",
    "    var1 = 20\n",
    "    \n",
    "    def inner():\n",
    "        var1 = 50\n",
    "        print(var1)\n",
    "    inner()                      #Sprawdz wywołanie\n",
    "    print(var1)\n",
    "sample()\n",
    "#print(var1)"
   ]
  },
  {
   "cell_type": "code",
   "execution_count": 12,
   "id": "f03bc93c",
   "metadata": {},
   "outputs": [
    {
     "name": "stdout",
     "output_type": "stream",
     "text": [
      "50\n",
      "50\n"
     ]
    }
   ],
   "source": [
    "def sample():\n",
    "    var1 = 20\n",
    "    \n",
    "    def inner():\n",
    "        nonlocal var1\n",
    "        var1 = 50\n",
    "        print(var1)\n",
    "    inner()                      #Sprawdz wywołanie\n",
    "    print(var1)\n",
    "sample()\n",
    "#print(var1)"
   ]
  },
  {
   "cell_type": "code",
   "execution_count": 13,
   "id": "f2c66048",
   "metadata": {},
   "outputs": [
    {
     "name": "stdout",
     "output_type": "stream",
     "text": [
      "70\n",
      "70\n"
     ]
    }
   ],
   "source": [
    "def sample():\n",
    "    var1 = 20\n",
    "    \n",
    "    def inner():\n",
    "        nonlocal var1\n",
    "        var1 += 50\n",
    "        print(var1)\n",
    "    inner()                      #Sprawdz wywołanie\n",
    "    print(var1)\n",
    "sample()\n",
    "#print(var1)"
   ]
  },
  {
   "cell_type": "code",
   "execution_count": 24,
   "id": "73c46327",
   "metadata": {},
   "outputs": [
    {
     "name": "stdout",
     "output_type": "stream",
     "text": [
      "None\n",
      "3\n"
     ]
    }
   ],
   "source": [
    "#Funkcja exec()\n",
    "\n",
    "var1 = 10\n",
    "\n",
    "source = 'var1 = 3'\n",
    "result = exec(source)\n",
    "print(result)\n",
    "print(var1)"
   ]
  },
  {
   "cell_type": "code",
   "execution_count": 21,
   "id": "ec2e63da",
   "metadata": {},
   "outputs": [
    {
     "name": "stdout",
     "output_type": "stream",
     "text": [
      "0\n",
      "1\n",
      "2\n",
      "3\n",
      "4\n",
      "5\n",
      "6\n",
      "7\n",
      "8\n",
      "9\n",
      "None\n",
      "50\n"
     ]
    }
   ],
   "source": [
    "var1 = 10                     #Funkcja exec() może przyjąć więcej niż jedną linijkę tekstu.\n",
    "\n",
    "source = '''\n",
    "for i in range(10):\n",
    "    print(i)\n",
    "    var1 = 50\n",
    "'''\n",
    "result = exec(source)\n",
    "print(result)\n",
    "print(var1)"
   ]
  },
  {
   "cell_type": "code",
   "execution_count": 25,
   "id": "6718aadc",
   "metadata": {},
   "outputs": [
    {
     "name": "stdout",
     "output_type": "stream",
     "text": [
      "0\n",
      "1\n",
      "2\n",
      "3\n",
      "4\n",
      "5\n",
      "6\n",
      "7\n",
      "8\n",
      "9\n"
     ]
    },
    {
     "data": {
      "text/plain": [
       "[0, 1, 2, 3, 4, 5, 6, 7, 8, 9]"
      ]
     },
     "execution_count": 25,
     "metadata": {},
     "output_type": "execute_result"
    }
   ],
   "source": [
    "#List, dict, set comprehension\n",
    "\n",
    "for num in range(10):\n",
    "    print(num)\n",
    "    \n",
    "#list comprehension\n",
    "\n",
    "[var for var in range(10)]"
   ]
  },
  {
   "cell_type": "code",
   "execution_count": null,
   "id": "6a70ca9c",
   "metadata": {},
   "outputs": [],
   "source": []
  }
 ],
 "metadata": {
  "kernelspec": {
   "display_name": "Python 3 (ipykernel)",
   "language": "python",
   "name": "python3"
  },
  "language_info": {
   "codemirror_mode": {
    "name": "ipython",
    "version": 3
   },
   "file_extension": ".py",
   "mimetype": "text/x-python",
   "name": "python",
   "nbconvert_exporter": "python",
   "pygments_lexer": "ipython3",
   "version": "3.9.7"
  }
 },
 "nbformat": 4,
 "nbformat_minor": 5
}