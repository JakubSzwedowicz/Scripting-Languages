{
 "cells": [
  {
   "cell_type": "markdown",
   "id": "cab389ed",
   "metadata": {},
   "source": [
    "                                                                                                                          "
   ]
  },
  {
   "cell_type": "markdown",
   "id": "07ea4314",
   "metadata": {},
   "source": [
    "### 1. Moduły.\n",
    "#### 1.1. Moduł Math\n",
    "\n"
   ]
  },
  {
   "cell_type": "code",
   "execution_count": 9,
   "id": "2026ed26",
   "metadata": {},
   "outputs": [
    {
     "data": {
      "text/plain": [
       "1.0"
      ]
     },
     "execution_count": 9,
     "metadata": {},
     "output_type": "execute_result"
    }
   ],
   "source": [
    "import math    #zaimportownaie modułu umożliwia m.in. odwołanie się do zmiannych oraz funkcji, które w tym module się znajdują\n",
    "\n",
    "math.pi\n",
    "math.e\n",
    "\n",
    "#from math import *   #inna metoda importowania funkcji z modułu math, ale rekomenduje się jej wykorzystanie tylko w trybie interaktywnym.\n",
    "#pi                   #w tym momecie możemy odwołać się do zmiannej pi bezpośrednio, nie ma konieczności poprzedzania zmiannej nazwą modułu jak było to wyżej.\n",
    "                     # druga metoda importu jest możliwa jedynie w trybie interaktywnym! Zaimportowanie w ten sposób np. dwóch modułów, w których występują funkcje o identycznej nazwie. Funkcje się przykryją.\n",
    "#from math import pi  #trzecia metoda importu konkretnej zmiennej z modułu math. Oznacza to również, że w tym momencie nie mam zaimportowanej żadnej innej zmiannej czy funkcji z modułu math.\n",
    "\n",
    "A = 7.89876554\n",
    "B = 12.8789776\n",
    "\n",
    "\n",
    "math.ceil(A)          #Funkcja zwraca dla wskazanego argumentu najmniejsza liczbę całkowitą, która jest wieksza od przekazanego argumentu.\n",
    "math.floor(B)         #Funkcja zwraca dla wskazanego argumentu najwiekszą liczbę całkowitą, która jest mniejsza od przekazanego argumentu.\n",
    "                      #Obie powyższe funkcje mogą być wywoływane również dla liczb ujemnych\n",
    "    \n",
    "math.pow(2, 2)        #Funkcja przyjmuje dwa argumenty: podstawa potęgi oraz wykłądnik.\n",
    "2**2                  #Identycza postać. Zwróć uwagę na typ danych w outpucie.\n",
    "\n",
    "math.sqrt(16)         #Funkcja zwraca pierwiastek z zadanej liczby.\n",
    "math.sin(math.pi/2)   #Funkcja zwraca sinus dla pi drugich.\n",
    "\n"
   ]
  },
  {
   "cell_type": "markdown",
   "id": "76639805",
   "metadata": {},
   "source": [
    "#### 1.2. Moduł random"
   ]
  },
  {
   "cell_type": "code",
   "execution_count": 27,
   "id": "cfb688b8",
   "metadata": {},
   "outputs": [
    {
     "data": {
      "text/plain": [
       "0.5290382445650468"
      ]
     },
     "execution_count": 27,
     "metadata": {},
     "output_type": "execute_result"
    }
   ],
   "source": [
    "import random   #Moduł do generownaia liczb losowych\n",
    "random.randint(1,100)    #Funkcja wylosuje liczbę całkowitą z zadanego przedziału.Warto podkreslić, że w zadanym zakresie mogą być wylosowane wszytsckie liczby od 1 do 100 (wraz z 100 !)\n",
    "random.choice(range(1,50))          #Funkcja wybierze jedną wartość z zadanego zakresu\n",
    "random.randrange(1,50)              #Funkcja ma identyczne działanie nak funkcja choice.range() \n",
    "random.random()                     #Funkcja bez zadanych parametrów losuje liczbę z zakresu od 0 do 1."
   ]
  },
  {
   "cell_type": "code",
   "execution_count": 21,
   "id": "23e449f0",
   "metadata": {},
   "outputs": [
    {
     "name": "stdout",
     "output_type": "stream",
     "text": [
      "['Bolek', 'Olek', 'Stasia', 'Kasia', 'Tolek', 'Basia']\n"
     ]
    }
   ],
   "source": [
    "import random\n",
    "list = ['Kasia', 'Basia', 'Stasia', 'Olek', 'Bolek', 'Tolek']\n",
    "random.shuffle(list)               #Funkcja powoduje, że lista zostanie losowo wymieszana.\n",
    "print(list)"
   ]
  },
  {
   "cell_type": "code",
   "execution_count": 28,
   "id": "3c7feb7d",
   "metadata": {},
   "outputs": [
    {
     "name": "stdout",
     "output_type": "stream",
     "text": [
      "32  \n",
      "33 !\n",
      "34 \"\n",
      "35 #\n",
      "36 $\n",
      "37 %\n",
      "38 &\n",
      "39 '\n",
      "40 (\n",
      "41 )\n",
      "42 *\n",
      "43 +\n",
      "44 ,\n",
      "45 -\n",
      "46 .\n",
      "47 /\n",
      "48 0\n",
      "49 1\n",
      "50 2\n",
      "51 3\n",
      "52 4\n",
      "53 5\n",
      "54 6\n",
      "55 7\n",
      "56 8\n",
      "57 9\n",
      "58 :\n",
      "59 ;\n",
      "60 <\n",
      "61 =\n",
      "62 >\n",
      "63 ?\n",
      "64 @\n",
      "65 A\n",
      "66 B\n",
      "67 C\n",
      "68 D\n",
      "69 E\n",
      "70 F\n",
      "71 G\n",
      "72 H\n",
      "73 I\n",
      "74 J\n",
      "75 K\n",
      "76 L\n",
      "77 M\n",
      "78 N\n",
      "79 O\n",
      "80 P\n",
      "81 Q\n",
      "82 R\n",
      "83 S\n",
      "84 T\n",
      "85 U\n",
      "86 V\n",
      "87 W\n",
      "88 X\n",
      "89 Y\n",
      "90 Z\n",
      "91 [\n",
      "92 \\\n",
      "93 ]\n",
      "94 ^\n",
      "95 _\n",
      "96 `\n",
      "97 a\n",
      "98 b\n",
      "99 c\n",
      "100 d\n",
      "101 e\n",
      "102 f\n",
      "103 g\n",
      "104 h\n",
      "105 i\n",
      "106 j\n",
      "107 k\n",
      "108 l\n",
      "109 m\n",
      "110 n\n",
      "111 o\n",
      "112 p\n",
      "113 q\n",
      "114 r\n",
      "115 s\n",
      "116 t\n",
      "117 u\n",
      "118 v\n",
      "119 w\n",
      "120 x\n",
      "121 y\n",
      "122 z\n",
      "123 {\n",
      "124 |\n",
      "125 }\n",
      "126 ~\n"
     ]
    }
   ],
   "source": [
    "#Przykład zastosowania modułu random - Generowanie Hasła\n",
    "\n",
    "#import random      #Generowanie całej tabeli ASCII\n",
    "#for i in range (0,255):\n",
    "    #print(i, chr(i))\n",
    "\n",
    "\n",
    "#Generowanie tabeli ASCII\n",
    "for i in range(32,127):     #WYŚWIETLAMY OD 32 DO 127 - Znaków mamy łącznie 256  Zakres jest związany z wymaganiami odnośnie hasła.\n",
    "    print(i, chr(i))\n",
    "    \n",
    "#Przypomnij sobie jakie są zasady tworzenia hasła - Duże litery, małe litery, cyfry i znaki specjalne\n"
   ]
  },
  {
   "cell_type": "code",
   "execution_count": 49,
   "id": "18e161e0",
   "metadata": {},
   "outputs": [
    {
     "name": "stdout",
     "output_type": "stream",
     "text": [
      "MY:Y<XW4c6\n"
     ]
    }
   ],
   "source": [
    "#Generowanie hasła     - Poniżej zaprezentowane wykorzstanie modułu string, które znacznie ułatwi generowanie hasła z wykorzystaniem znaków ASCII.\n",
    "/home/JakubSzwedowicz/Dev/Python\n",
    "import random\n",
    "sighs = range(33,127)\n",
    "password = ''\n",
    "\n",
    "for i in range(10):    #zdefiniu jak długie ma być twoje hasło\n",
    "    password+=chr(random.choice(sighs))\n",
    "print(password)\n",
    "    "
   ]
  },
  {
   "cell_type": "markdown",
   "id": "6ea4fd39",
   "metadata": {},
   "source": [
    "#### 1.3. Moduł time & calender"
   ]
  },
  {
   "cell_type": "code",
   "execution_count": 74,
   "id": "1e11c4c6",
   "metadata": {},
   "outputs": [
    {
     "data": {
      "text/plain": [
       "'Sun Mar  6 22:50:10 2022'"
      ]
     },
     "execution_count": 74,
     "metadata": {},
     "output_type": "execute_result"
    }
   ],
   "source": [
    "import time\n",
    "time.process_time()\n",
    "time.perf_counter()\n",
    "time.localtime()         #Funkcja zwraca dokładną datę i godzinę.\n",
    "time.time()              #Funkcja zwraca czas, zaobserwuj w jakiej formie.Czas mierzony w sposób unixowy w sekundach od poczatku 1970.\n",
    "time.asctime()\n"
   ]
  },
  {
   "cell_type": "code",
   "execution_count": 73,
   "id": "fe0f9235",
   "metadata": {},
   "outputs": [
    {
     "name": "stdout",
     "output_type": "stream",
     "text": [
      "                April 2022\n",
      "\n",
      " Sun   Mon   Tue   Wed   Thu   Fri   Sat\n",
      "\n",
      "                                 1     2\n",
      "\n",
      "   3     4     5     6     7     8     9\n",
      "\n",
      "  10    11    12    13    14    15    16\n",
      "\n",
      "  17    18    19    20    21    22    23\n",
      "\n",
      "  24    25    26    27    28    29    30\n",
      "\n",
      "\n",
      "     April 2022\n",
      "Su Mo Tu We Th Fr Sa\n",
      "                1  2\n",
      " 3  4  5  6  7  8  9\n",
      "10 11 12 13 14 15 16\n",
      "17 18 19 20 21 22 23\n",
      "24 25 26 27 28 29 30\n",
      "\n",
      "2\n",
      "None\n",
      "True\n",
      "                                  2022\n",
      "\n",
      "      January                   February                   March\n",
      "Su Mo Tu We Th Fr Sa      Su Mo Tu We Th Fr Sa      Su Mo Tu We Th Fr Sa\n",
      "                   1             1  2  3  4  5             1  2  3  4  5\n",
      " 2  3  4  5  6  7  8       6  7  8  9 10 11 12       6  7  8  9 10 11 12\n",
      " 9 10 11 12 13 14 15      13 14 15 16 17 18 19      13 14 15 16 17 18 19\n",
      "16 17 18 19 20 21 22      20 21 22 23 24 25 26      20 21 22 23 24 25 26\n",
      "23 24 25 26 27 28 29      27 28                     27 28 29 30 31\n",
      "30 31\n",
      "\n",
      "       April                      May                       June\n",
      "Su Mo Tu We Th Fr Sa      Su Mo Tu We Th Fr Sa      Su Mo Tu We Th Fr Sa\n",
      "                1  2       1  2  3  4  5  6  7                1  2  3  4\n",
      " 3  4  5  6  7  8  9       8  9 10 11 12 13 14       5  6  7  8  9 10 11\n",
      "10 11 12 13 14 15 16      15 16 17 18 19 20 21      12 13 14 15 16 17 18\n",
      "17 18 19 20 21 22 23      22 23 24 25 26 27 28      19 20 21 22 23 24 25\n",
      "24 25 26 27 28 29 30      29 30 31                  26 27 28 29 30\n",
      "\n",
      "        July                     August                  September\n",
      "Su Mo Tu We Th Fr Sa      Su Mo Tu We Th Fr Sa      Su Mo Tu We Th Fr Sa\n",
      "                1  2          1  2  3  4  5  6                   1  2  3\n",
      " 3  4  5  6  7  8  9       7  8  9 10 11 12 13       4  5  6  7  8  9 10\n",
      "10 11 12 13 14 15 16      14 15 16 17 18 19 20      11 12 13 14 15 16 17\n",
      "17 18 19 20 21 22 23      21 22 23 24 25 26 27      18 19 20 21 22 23 24\n",
      "24 25 26 27 28 29 30      28 29 30 31               25 26 27 28 29 30\n",
      "31\n",
      "\n",
      "      October                   November                  December\n",
      "Su Mo Tu We Th Fr Sa      Su Mo Tu We Th Fr Sa      Su Mo Tu We Th Fr Sa\n",
      "                   1             1  2  3  4  5                   1  2  3\n",
      " 2  3  4  5  6  7  8       6  7  8  9 10 11 12       4  5  6  7  8  9 10\n",
      " 9 10 11 12 13 14 15      13 14 15 16 17 18 19      11 12 13 14 15 16 17\n",
      "16 17 18 19 20 21 22      20 21 22 23 24 25 26      18 19 20 21 22 23 24\n",
      "23 24 25 26 27 28 29      27 28 29 30               25 26 27 28 29 30 31\n",
      "30 31\n",
      "\n"
     ]
    }
   ],
   "source": [
    "import calendar\n",
    "print(calendar.month(2022, 4, w=5, l=2))    #Wyświetlamy kalendarz na kwiecień 2022, na każdy dzień przeznaczamy 5 znaków i odstępy 2 znaki.\n",
    "                                            #Eksperymentuj.\n",
    "print(calendar.month(2022, 4))\n",
    "\n",
    "print(calendar.weekday(2022, 4, 13))      #Funkcja zwróci w jaki dzień wypada zdefiniowana data. W związku z faktem, że liczymy od 0 -pon, zwrócony wynik to środa.\n",
    "print(calendar.setfirstweekday(6))        #Możesz wskazać żeby pierwszym dniem tygodnia była 6 czyli niedziela w generowanym kaledarzu ! Tylko w kalendarzu.\n",
    "print(calendar.isleap(2020))              #Funkcja wskazuje czy dany rok jest przestępny\n",
    "#print(calendar.leapdays(2020,2021))      #Funkcja wskazuje ile dni przestępnych było w tym czasie.\n",
    "print(calendar.calendar(2022))            #Funkcja wyrysowuje kalendarz na cały rok\n"
   ]
  },
  {
   "cell_type": "markdown",
   "id": "b1266b75",
   "metadata": {},
   "source": [
    "#### 1.4. Moduł datetime"
   ]
  },
  {
   "cell_type": "code",
   "execution_count": 95,
   "id": "73ec32d0",
   "metadata": {},
   "outputs": [
    {
     "name": "stdout",
     "output_type": "stream",
     "text": [
      "2022-03-06 23:20:44.455229\n",
      "2022-03-06 23:20:44.455743\n"
     ]
    },
    {
     "data": {
      "text/plain": [
       "'2022-03-06  23:20:44'"
      ]
     },
     "execution_count": 95,
     "metadata": {},
     "output_type": "execute_result"
    }
   ],
   "source": [
    "import datetime\n",
    "\n",
    "datetime.timedelta(days=2, hours=2, minutes=3)          #Funkcja pomoga wyznaczyć różnice czasu\n",
    "\n",
    "datetime.date.today()                                   #Funkcja wyznacza obecną datę.\n",
    "today = datetime.date.today()\n",
    "today.weekday()                                         #Funkcja zwraca dzień tygodnia. print(calendar.weekday(2022, 4, 13))\n",
    "print(datetime.datetime.now())                          #Funkcja now() i today() zwracają czas lokalny\n",
    "print(datetime.datetime.today())  \n",
    "\n",
    "\n",
    "#Konwertowanie czasu do napisu\n",
    "#datetime.datetime.now().strftime('%a')         #Funkcja zwraca skróconą nazwę dnia tygodnia\n",
    "#datetime.datetime.now().strftime('%A')         #Funkcja zwraca całą nazwę dnia tygodnia\n",
    "#datetime.datetime.now().strftime('%w')          #Funkcja zwraca numer dnia tygodnia, rozpoczynamy liczenie od niedzieli jako 0\n",
    "#datetime.datetime.now().strftime('%w')\n",
    "datetime.datetime.now().strftime('%Y-%m-%d  %H:%M:%S')\n"
   ]
  },
  {
   "cell_type": "code",
   "execution_count": 78,
   "id": "6982b5c6",
   "metadata": {},
   "outputs": [
    {
     "name": "stdout",
     "output_type": "stream",
     "text": [
      "2022-03-20\n"
     ]
    }
   ],
   "source": [
    "#Przykład zastoswoania moduły datetime\n",
    "#Załóżmy, że w dniu dzisijeszym otrzymałeś FV za gaz. Termin zapłaty 14 dni. Oblicz do kiedy należy zapłacić.\n",
    "\n",
    "import datetime\n",
    "today = datetime.date.today()\n",
    "Pay = datetime.timedelta(days= 14)\n",
    "print(today+ Pay)"
   ]
  },
  {
   "cell_type": "code",
   "execution_count": null,
   "id": "32e8295c",
   "metadata": {},
   "outputs": [],
   "source": [
    "#Przykład zastosowania modułu  - sprawdzamy jaki jest dziś dzień, a następnie weryfikujemy jaki jest najbliższy dzień roboczy. \n",
    "\n",
    "import datetime\n",
    "\n",
    "today = datetime.datetime.today()\n",
    "print(today)\n",
    "today_2 = datetime.date.today()\n",
    "print(today_2)\n",
    "print(today_2.weekday())\n",
    "\n",
    "#today_3 = datetime.date(2022, 3, 5)   - przetestu dla różnych dat.\n",
    "\n",
    "if today_3.weekday() == 5:    #5 dzień to sobota\n",
    "    workingday = today_3 + datetime.timedelta(days=2)\n",
    "elif today_3.weekday() == 6:  #6 dzien to niedziela\n",
    "    workingday = today_3 + datetime.timedelta(days=1)\n",
    "else:\n",
    "    workingday = today_3\n",
    "\n",
    "print(\"Workingday is {}\". format(workingday))"
   ]
  },
  {
   "cell_type": "markdown",
   "id": "ceb422f7",
   "metadata": {},
   "source": [
    "#### 1.5.  Moduł string"
   ]
  },
  {
   "cell_type": "code",
   "execution_count": 40,
   "id": "e63d19a6",
   "metadata": {},
   "outputs": [
    {
     "data": {
      "text/plain": [
       "'0123456789'"
      ]
     },
     "execution_count": 40,
     "metadata": {},
     "output_type": "execute_result"
    }
   ],
   "source": [
    "import string\n",
    "string.ascii_letters     #Zwróci wszytskie litery dostępne w tablicy ASCII\n",
    "string.digits            #Zwróci cyfry\n"
   ]
  },
  {
   "cell_type": "markdown",
   "id": "91b99346",
   "metadata": {},
   "source": [
    "#### 1.6. Moduł os"
   ]
  },
  {
   "cell_type": "code",
   "execution_count": null,
   "id": "b9d62b0c",
   "metadata": {},
   "outputs": [],
   "source": [
    "import time\n",
    "import os                                #Pozwala na wykonywanie czynności zwiazanych z dostępem do plików\n",
    "currentDir = os.getcwd()                 #Zwraca informację o bieżącym katalogu\n",
    "filename = \"scripts.txt\"\n",
    "fullpath = os.path.join(currentDir, filename)\n",
    "print(fullpath)\n",
    "\n",
    "#Ścieżka względna - okresla położenie pliku względem bieżącego katalogu.\n",
    "os.path.abspath('Test.py')                #Podaj nazwę pliku na Twoim dysku  - przekazujesz względną ścieżkę dostępu do plik, funkcja poda bezwględną.\n",
    "#Ścieżka bezwzględna\n",
    "\n",
    "filepath = r'C:\\Scripts\\Test.py'          #Podajemy bezwględną ścieżkę dostępu do pliku   - I sposób podziału\n",
    "#os.path.basename(filepath)               #Zwróci nazwę pliku\n",
    "#os.path.dirname(filepath)                #Zwróci ścieżkę dostępu do katalogu, w którym plik się znajduje.\n",
    "#os.path.exists(filepath)                 #Sprawdza czy dana ścieżka istnieje\n",
    "\n",
    "\n",
    "#Informacje dotyczące istniejących plików .py\n",
    "\n",
    "os.path.getmtime(filepath)                   #Data ostatniej modyfikacji\n",
    "time.localtime(os.path.getmtime(filepath))\n",
    "\n",
    "os.path.getctime(filepath)                   #Data utworzenia\n",
    "time.localtime(os.path.getctime(filepath))\n",
    "\n",
    "os.path.getatime(filepath)                   #Data ostatniego dostępu\n",
    "time.localtime(os.path.getatime(filepath))\n",
    "\n",
    "\n",
    "os.path.getsize(filepath)                    #Rozmiar pliku - rozmiar zwracany w bajtach.\n",
    "\n",
    "os.path.isfile(filepath)                     #Sprawdza czy określona ścieżka identyfikuje plik (file) czy katalog (dir)\n",
    "os.path.isdir(filepath)\n",
    "\n",
    "\n",
    "# II sposób podziału \n",
    "\n",
    "os.path.split(filepath)                      #Dzieli ścieżkę bezwzględną do pliku na nazwę pliku oraz ścieżkę dostępu do katalogu, w którym plik się znajduje.\n",
    "os.path.split(filepath)[1]                   #A jeżeli chcesz wyciągnąć jego poszczególne elementy używamy indeksowania\n",
    "os.path.split(filepath)[0] \n",
    "\n",
    "os.path.splitdrive(filepath)                 #Możliwość zwrócenia samej nazwy dysku - analizuje przekazaną ścieżkę dostępu do pliku i zwróci.\n",
    "os.path.splitdrive(filepath)[0]             #Zwraca tuple (nazwa dysku: ścieżka dostępu do pliku)\n",
    "os.path.splitdrive(filepath)[1]"
   ]
  },
  {
   "cell_type": "code",
   "execution_count": null,
   "id": "d3cdadc8",
   "metadata": {},
   "outputs": [],
   "source": [
    "#Przykładowe zadania pracy z plikami\n",
    "\n",
    "import os\n",
    "import time\n",
    "currentDir = r'C:\\Scripts\\Python\\Example'        #Utwórz ścieżkę dostępu do pliku, eksperymentuj z zagnieżdaniem katalogów.\n",
    "filename = 'MyFile.txt'\n",
    "fullpath = "
   ]
  },
  {
   "cell_type": "code",
   "execution_count": null,
   "id": "f417c94f",
   "metadata": {},
   "outputs": [
    {
     "name": "stdout",
     "output_type": "stream",
     "text": [
      "True\n",
      "False\n"
     ]
    }
   ],
   "source": [
    "import time\n",
    "import os\n",
    "\n",
    "#print(os.path.isdir('C:\\Scripts'))\n",
    "#print(os.path.isfile('ABC.py'))\n",
    "\n",
    "dirIsOk = False\n",
    "fileIsOk = False\n",
    "\n",
    "\n",
    "while not dirIsOk:\n",
    "    dir = input(\"Wprowadz ścieżkę dostępu do katalogu: \")\n",
    "    if not os.path.isdir(dir):\n",
    "        print(\"Ścieżka dostępu musi być katalogiem.\")\n",
    "    else:\n",
    "        dirIsOk = True\n",
    "        while not fileIsOk:\n",
    "            file = input(\"Wprowadz nazwę pliku: \")\n",
    "            if not os.path.isfile(file):\n",
    "                print(\"Nie została wprowadzona nazwa pliku: \")\n",
    "            else:\n",
    "                fileIsOk = True\n",
    "                fullpath = os.path.join(dir, file)\n",
    "                os.path.getmtime(fullpath)\n",
    "                time.localtime(os.path.getmtime(fullpath))\n",
    "                os.path.getctime(fullpath)\n",
    "                time.localtime(os.path.getmtime(fullpath))\n",
    "                os.path.getatime(fullpath)\n",
    "                time.localtime(os.path.getatime(fullpath))"
   ]
  },
  {
   "cell_type": "code",
   "execution_count": null,
   "id": "f62fe921",
   "metadata": {},
   "outputs": [],
   "source": [
    "#Odczyt z pliku\n",
    "#Dla małych plików sposób 1 oraz 2\n",
    "#1 Sposób\n",
    "#1. Odczytujemy plik - polecenie open jako parametr przyjmuje ścieżkę dostępu do pliku, który otwieramy oraz drugi parater - funkcja pliku\n",
    "file = open('C:\\\\Scripts\\\\Test.py', 'r')    # r - tylko do odczytu\n",
    "content = file.read()                       # wczytujemy zawartość pliku\n",
    "print(content)\n",
    "file.close()                                #Zamykamy\n",
    "\n",
    "#2 Sposób\n",
    "with open('C:\\\\Scripts\\\\Test.py', 'r') as file:\n",
    "    content = file.read()\n",
    "    content = file.readlines()      #pełnią tę samą rolę, wczytują na raz całą zawartość pliku.\n",
    "    print(content)\n",
    "    \n",
    "#Dla dużych plików:\n",
    "#Sposób 3\n",
    "with open('C:\\\\Scripts\\\\Test.py', 'r') as file:\n",
    "    for line in file:\n",
    "        print(line)\n",
    "        \n",
    "#Kolejny sposób\n",
    "with open('C:\\\\Scripts\\\\Test.py', 'r') as file:\n",
    "    fragment = file.read(10)         #Fragment ma 10 bajtów\n",
    "\n",
    "    while fragment:\n",
    "        print(fragment)          # sprawdz co reprezentuje taka linijka kodu print(file.tell(), fragment)\n",
    "        fragment = file.read(10)"
   ]
  },
  {
   "cell_type": "code",
   "execution_count": null,
   "id": "2dbef1cb",
   "metadata": {},
   "outputs": [],
   "source": [
    "#Zapis do pliku\n",
    "\n",
    "filename = 'C:\\\\Scripts\\\\New_file.py'\n",
    "\n",
    "line = 'Animals'\n",
    "\n",
    "species = ['Elephant', 'Monkey', 'Tiger', 'Lion', 'Horse']\n",
    "\n",
    "with open('C:\\\\Scripts\\\\New_file.py', 'w') as file:   #Zapis do pliku\n",
    "    file.write(line)\n",
    "    file.write('\\n')\n",
    "    #file.writelines(species)\\\n",
    "    for animal in species:\n",
    "        file.write(animal+'\\n')\n",
    "\n",
    "with open('C:\\\\Scripts\\\\New_file.py', 'r') as file:    #Czytanie z pliku\n",
    "    for line in file:\n",
    "        print(line)\n",
    "\n",
    "with open('C:\\\\Scripts\\\\New_file.py', 'a') as file:   #Dopisanie do pliku     (w+  a+  poczytaj o tych dodatkowych trybach)\n",
    "    file.write('\\n')\n",
    "    file.write(\"Hello, It's a new fragment.\")\n",
    "\n",
    "with open('C:\\\\Scripts\\\\New_file.py', 'r') as file:    #Czytanie z pliku\n",
    "    for line in file:\n",
    "        print(line)"
   ]
  },
  {
   "cell_type": "markdown",
   "id": "79e65a95",
   "metadata": {},
   "source": []
  },
  {
   "cell_type": "markdown",
   "id": "9ab71b66",
   "metadata": {},
   "source": [
    "### 2. Funkcje"
   ]
  },
  {
   "cell_type": "code",
   "execution_count": 2,
   "id": "eebf6f48",
   "metadata": {},
   "outputs": [
    {
     "name": "stdout",
     "output_type": "stream",
     "text": [
      "Hello World!\n"
     ]
    }
   ],
   "source": [
    "def Printer():\n",
    "    print('Hello World!')       #Dobrym zwyczajem jest aby każda funkcja posiadała swój własny komentarz\n",
    "    return\n",
    "\n",
    "Printer()                       #Wywołanie funkcji.\n"
   ]
  },
  {
   "cell_type": "code",
   "execution_count": 5,
   "id": "9f2c56c5",
   "metadata": {},
   "outputs": [
    {
     "name": "stdout",
     "output_type": "stream",
     "text": [
      "2022-03-07 11:07:57.574868\n"
     ]
    }
   ],
   "source": [
    "import datetime\n",
    "\n",
    "today = datetime.datetime.today() \n",
    "print(today)"
   ]
  },
  {
   "cell_type": "code",
   "execution_count": 1,
   "id": "4b408f78",
   "metadata": {},
   "outputs": [
    {
     "name": "stdout",
     "output_type": "stream",
     "text": [
      "298 days, 3:17:49.934593\n"
     ]
    }
   ],
   "source": [
    "def DayToEnd():       #Funkcja bez parametrów\n",
    "    import datetime\n",
    "\n",
    "    today = datetime.datetime.today()\n",
    "    #print(today)\n",
    "\n",
    "    year = today.year\n",
    "    #print(year)\n",
    "\n",
    "    date_end_year = datetime.datetime(year, 12, 31)\n",
    "    #print(date_end_year)\n",
    "\n",
    "    delta = date_end_year - today\n",
    "    print(delta)\n",
    "    return\n",
    "\n",
    "DayToEnd()    #Ile pozostało czasu do końca roku"
   ]
  },
  {
   "cell_type": "code",
   "execution_count": 40,
   "id": "d8f7acd5",
   "metadata": {},
   "outputs": [
    {
     "name": "stdout",
     "output_type": "stream",
     "text": [
      "2 days, 2:02:24.897008\n",
      "644 days, 2:02:24.895979\n"
     ]
    }
   ],
   "source": [
    "def DayToEnd(year, month, day):       #Funkcja oblicza ile dni minie od dziś do podanej daty.\n",
    "    import datetime                   # Jawne przekazanie parametrów  przez pozycję \n",
    "\n",
    "    today = datetime.datetime.today()\n",
    "    #print(today)\n",
    "\n",
    "    #year = today.year\n",
    "    #print(year)\n",
    "\n",
    "    date_to_end = datetime.datetime(year, month, day)    #Przekazujemy datę.\n",
    "    #print(date_end_year)\n",
    "\n",
    "    delta = date_to_end - today\n",
    "    print(delta)\n",
    "    return\n",
    "\n",
    "DayToEnd(2022, 3, 10)                  # Przekazanie parametrów  przez pozycję \n",
    "\n",
    "DayToEnd(month= 12, year=2023, day=12) #Przekazanie parametrów jawnie przez nazwę"
   ]
  },
  {
   "cell_type": "code",
   "execution_count": 22,
   "id": "1c66d163",
   "metadata": {},
   "outputs": [
    {
     "name": "stdout",
     "output_type": "stream",
     "text": [
      "2022-03-07 20:57:45.179960\n"
     ]
    },
    {
     "data": {
      "text/plain": [
       "datetime.date(2022, 3, 7)"
      ]
     },
     "execution_count": 22,
     "metadata": {},
     "output_type": "execute_result"
    }
   ],
   "source": [
    "import datetime\n",
    "\n",
    "today = datetime.datetime.today()\n",
    "print(today)\n",
    "datetime.date.today().year\n",
    "#datetime.date.today().month\n",
    "#datetime.date.today().day\n",
    "datetime.date.today()"
   ]
  },
  {
   "cell_type": "code",
   "execution_count": 41,
   "id": "ca14fdc0",
   "metadata": {},
   "outputs": [
    {
     "name": "stdout",
     "output_type": "stream",
     "text": [
      "3 days, 0:00:00\n",
      "664 days, 0:00:00\n",
      "0:00:00\n"
     ]
    }
   ],
   "source": [
    "import datetime  \n",
    "\n",
    "def DayToEnd(year= datetime.date.today().year, month= datetime.date.today().month, day= datetime.date.today().day):       \n",
    "#Funkcja oblicza ile dni minie od dziś do podanej daty.\n",
    "# Parametry domyśle funkcji\n",
    "\n",
    "    today = datetime.date.today()\n",
    "    #print(today)\n",
    "\n",
    "    #year = today.year\n",
    "    #print(year)\n",
    "\n",
    "    date_to_end = datetime.date(year, month, day)\n",
    "    #print(date_end_year)\n",
    "\n",
    "    delta = date_to_end - today\n",
    "    print(delta)\n",
    "    return\n",
    "\n",
    "DayToEnd(2022, 3, 10)                  # Przekazanie parametrów  przez pozycję \n",
    "DayToEnd(month= 12, year=2023, day=31) #Przekazanie parametrów jawnie przez nazwę\n",
    "DayToEnd()                             #Parametry domyśle, w przypadku ich podania funkcja pobiera domyślne"
   ]
  },
  {
   "cell_type": "code",
   "execution_count": 27,
   "id": "660ae509",
   "metadata": {},
   "outputs": [
    {
     "name": "stdout",
     "output_type": "stream",
     "text": [
      "3 days, 0:00:00\n",
      "664 days, 0:00:00\n",
      "0:00:00\n"
     ]
    }
   ],
   "source": [
    "import datetime     \n",
    "\n",
    "def DayToEnd(year= datetime.date.today().year, month= datetime.date.today().month, day= datetime.date.today().day):       \n",
    "#Funkcja oblicza ile dni minie od dziś do podanej daty.\n",
    "# Parametry domyśle funkcji\n",
    "\n",
    "    today = datetime.date.today()\n",
    "    #print(today)\n",
    "\n",
    "    #year = today.year\n",
    "    #print(year)\n",
    "\n",
    "    date_end_year = datetime.date(year, month, day)\n",
    "    #print(date_end_year)\n",
    "\n",
    "    delta = date_end_year - today\n",
    "    #print(delta)\n",
    "    return delta\n",
    "\n",
    "print(DayToEnd(2022, 3, 10))                      # Przekazanie parametrów  przez pozycję \n",
    "print(DayToEnd(month= 12, year=2023, day=31))     #Przekazanie parametrów jawnie przez nazwę\n",
    "print(DayToEnd())                                 #Parametry domyśle, w przypadku ich podania funkcja pobiera domyślne"
   ]
  },
  {
   "cell_type": "code",
   "execution_count": 46,
   "id": "9f082092",
   "metadata": {},
   "outputs": [
    {
     "name": "stdout",
     "output_type": "stream",
     "text": [
      "house\n"
     ]
    }
   ],
   "source": [
    "def Word_to_english(words):\n",
    "    for word in words:\n",
    "        names = {\n",
    "            'dom': 'house',\n",
    "            'szpital': 'hospital',\n",
    "            'pielęgniarka': 'nurse',\n",
    "            'lekarz': 'doctor'\n",
    "        }\n",
    "\n",
    "        return names.get(words, 'error')\n",
    "print(Word_to_english('dom'))"
   ]
  },
  {
   "cell_type": "code",
   "execution_count": 15,
   "id": "759f7c15",
   "metadata": {},
   "outputs": [
    {
     "name": "stdout",
     "output_type": "stream",
     "text": [
      "********************\n",
      "********************\n"
     ]
    },
    {
     "data": {
      "text/plain": [
       "('Lidl', ('Cola', 'Milk', 'Water'), {'box': 1, 'can': 3, 'bottle': 4})"
      ]
     },
     "execution_count": 15,
     "metadata": {},
     "output_type": "execute_result"
    }
   ],
   "source": [
    "#Parametry *arg, **kwargs\n",
    "\n",
    "def shoppingList(shop, product, amount):\n",
    "    return (shop, product, amount)\n",
    "shoppingList('Lidl','Milk', 2)\n",
    "\n",
    "def shoppingList(shop, product, amount, *args, **kwargs):\n",
    "    return (shop, product, amount)\n",
    "    print(*args)                             #Tupla\n",
    "    print(*kwargs)                           #Słownik dictionary\n",
    "shoppingList('Lidl','Milk', 2)\n",
    "\n",
    "print('*' * 20)\n",
    "\n",
    "#Parametry *arg, **kwargs\n",
    "\n",
    "def shoppingList(shop, *product):                #Zmienna *args pozwala wprowadzić więcej parametrów.\n",
    "    return (shop, product)\n",
    "shoppingList('Lidl','Milk', 'Cola', 'Water', 'Bread')\n",
    "\n",
    "print('*' * 20)\n",
    "\n",
    "def shoppingList(shop, *product):                       #Zmienna *args pozwala wprowadzić więcej parametrów.\n",
    "    return (shop, product)\n",
    "shoppingList('Lidl','Milk', 'Cola', 'Water', 'Bread')\n",
    "\n",
    "def shoppingList(shop, *args, **kwargs):                #Zmienna *args pozwala wprowadzić więcej parametrów.\n",
    "    return (shop, args, kwargs)\n",
    "shoppingList('Lidl','Milk', 'Cola', 'Water', 'Bread', box = 1, can= 3, bottle = 1.5)\n",
    "\n",
    "def shoppingList(shop, *args, **kwargs):                       #Zmienna *args pozwala wprowadzić więcej parametrów.\n",
    "    return (shop, args, kwargs)\n",
    "\n",
    "products = ['Cola', 'Milk', 'Water']\n",
    "package = {'box': 1, 'can':3,'bottle':4}\n",
    "shoppingList('Lidl',*products, **package)"
   ]
  },
  {
   "cell_type": "code",
   "execution_count": 7,
   "id": "d40d3873",
   "metadata": {},
   "outputs": [
    {
     "name": "stdout",
     "output_type": "stream",
     "text": [
      "I go to  Lidl\n",
      "I go to  Lidl\n",
      "Starting.\n",
      "Turning left.\n",
      "Go forward.\n",
      "Turning right.\n",
      "Stopping.\n"
     ]
    }
   ],
   "source": [
    "#Funkcja jako zmienna\n",
    "\n",
    "def shoppingList(shop):\n",
    "    print('I go to ', shop)\n",
    "\n",
    "shoppingList('Lidl')\n",
    "shop = shoppingList              #Przypisanie funkcji do zmiennej. Wywołanie zmiannej jak funkcji.\n",
    "shop('Lidl')\n",
    "\n",
    "\n",
    "#Mymap\n",
    "\n",
    "def Start(*args):\n",
    "    print('Starting.', *args)\n",
    "\n",
    "def GoForward(*args):\n",
    "    print('Go forward.', *args)\n",
    "\n",
    "def GoLeft(*args):\n",
    "    print('Turning left.', *args)\n",
    "    \n",
    "def GoRight(*args):\n",
    "    print('Turning right.', *args)\n",
    "    \n",
    "def GoBack(*args):\n",
    "    print('Goind back.', *args)\n",
    "\n",
    "def Stop(*args):\n",
    "    print('Stopping.', *args)\n",
    "\n",
    "\n",
    "instructions = [Start, GoLeft, GoForward, GoRight, Stop]\n",
    "for instruction in instructions:\n",
    "    instruction()\n",
    "    #instruction('by car')"
   ]
  },
  {
   "cell_type": "code",
   "execution_count": 5,
   "id": "4de94117",
   "metadata": {},
   "outputs": [
    {
     "name": "stdout",
     "output_type": "stream",
     "text": [
      "Adding flour\n",
      "Adding milk\n",
      "Adding eggs\n",
      "Mixing ingredients\n",
      "Baking cake\n",
      "********************\n",
      "Adding flour\n",
      "Adding milk\n",
      "Adding eggs\n",
      "Mixing ingredients\n",
      "Baking cake\n"
     ]
    }
   ],
   "source": [
    "# Funkcja jako argument\n",
    "\n",
    "def Bake(what):\n",
    "    print('Baking {}'. format(what))\n",
    "    \n",
    "def Add(what):\n",
    "    print('Adding {}'. format(what))\n",
    "\n",
    "def Mix(what):\n",
    "    print('Mixing {}'. format(what))\n",
    "    \n",
    "cake = [(Add, 'flour'), (Add, 'milk'), (Add, 'eggs'), (Mix, 'ingredients'), (Bake, 'cake')]\n",
    "\n",
    "for activity, object in cake:\n",
    "    activity(object)\n",
    "    \n",
    "print('*' * 20)\n",
    "    \n",
    "#Poprawna metoda realizacji tego samego:\n",
    "\n",
    "def Cake(activity, object):\n",
    "    activity(object)\n",
    "    \n",
    "#Cake(Bake, 'brownies')\n",
    "\n",
    "\n",
    "for activity, object in cake:\n",
    "    Cake(activity, object)"
   ]
  },
  {
   "cell_type": "code",
   "execution_count": 11,
   "id": "6f4c940f",
   "metadata": {},
   "outputs": [
    {
     "name": "stdout",
     "output_type": "stream",
     "text": [
      "11\n",
      "******************************\n",
      "17\n",
      "-8\n"
     ]
    }
   ],
   "source": [
    "#Funkcja zwracająca funkcję\n",
    "\n",
    "def Calculate(kind = '+', *args):\n",
    "    result = 0\n",
    "    if kind == '+':\n",
    "        for elem in args:\n",
    "            result+= elem\n",
    "    elif kind == '-':\n",
    "        for elem in args:\n",
    "            result-= elem\n",
    "    return result\n",
    "\n",
    "print(Calculate('+', 2, 4, 5))\n",
    "\n",
    "print('*' * 30)\n",
    "\n",
    "def CreateFunction(kind = '+'):\n",
    "    source = '''\n",
    "\n",
    "def f(*args):\n",
    "    result = 0\n",
    "    for a in args:\n",
    "        result {}= a\n",
    "    return result\n",
    "''' .format(kind)\n",
    "    exec(source, globals())\n",
    "\n",
    "\n",
    "    return f  # Wykonywanie dynamicznego kodu polecenie exec()\n",
    "\n",
    "\n",
    "f_add = CreateFunction('+')\n",
    "print(f_add(1, 4, 5, 7))\n",
    "f_sub = CreateFunction('-')\n",
    "print(f_sub(1, 3, 4))\n"
   ]
  },
  {
   "cell_type": "code",
   "execution_count": null,
   "id": "fe7602fb",
   "metadata": {},
   "outputs": [],
   "source": [
    "#Zadanie do przerobienia\n",
    "#Podane funkcje obliczają różnicę w minutach, godzinach i dniach pomiędzy zadaną wartością, a dniem dzisiejszym.\n",
    "#Napisz jedną funkcję, która bedzie w stanie wygenerować trzy ponizsze funkcje.\n",
    "\n",
    "import datetime\n",
    "\n",
    "def time_m(start, end):\n",
    "        duration = end - start\n",
    "        duration_in_s = duration.total_seconds()\n",
    "        return divmod(duration_in_s, 60)[0]\n",
    "\n",
    "def time_h(start, stop):\n",
    "        duration = end - start\n",
    "        duration_in_h = duration.total_seconds()\n",
    "        return divmod(duration_in_h, 3600)[0]\n",
    "\n",
    "def time_d(start, stop):\n",
    "        duration = end - start\n",
    "        duration_in_d = duration.total_seconds()\n",
    "        return divmod(duration_in_d, 86400)[0]\n",
    "    \n"
   ]
  },
  {
   "cell_type": "code",
   "execution_count": 14,
   "id": "55c239ec",
   "metadata": {},
   "outputs": [
    {
     "name": "stdout",
     "output_type": "stream",
     "text": [
      "box 1\n",
      "can 3\n",
      "bottle 8\n",
      "1\n"
     ]
    }
   ],
   "source": [
    "dict = {'box': 1, 'can':3, 'bottle': 8}\n",
    "\n",
    "for key, value in dict.items():\n",
    "    print(key, value)\n",
    "    \n",
    "print(dict['box'])"
   ]
  },
  {
   "cell_type": "markdown",
   "id": "c951c6d4",
   "metadata": {},
   "source": [
    "### 3. Obsługa błędów"
   ]
  },
  {
   "cell_type": "markdown",
   "id": "943f9a3c",
   "metadata": {},
   "source": [
    "#### 3.1.  Wyjątki"
   ]
  },
  {
   "cell_type": "code",
   "execution_count": null,
   "id": "553e5a0a",
   "metadata": {},
   "outputs": [],
   "source": [
    "#Przykładowe zadanie   - sprawdz działanie programu dla wartości 5 i five\n",
    "import sys\n",
    "try:\n",
    "    amount = input(\"Enter amount of points: \")\n",
    "\n",
    "    int_amount = int(amount)\n",
    "    sum = int_amount / 10 + 5\n",
    "    \n",
    "except:\n",
    "    print(\"Something went wrong.\", sys.exc_info()[0])                     #Zwraca tuple o trzech kolumnach, ale nas intersuje pierwsza o indeksie 0.\n",
    "                                                                          #Zawiera tekst błędu, do którego doszło w skrypcie.\n",
    "print('Sum {0:4d}'.format(sum))"
   ]
  },
  {
   "cell_type": "code",
   "execution_count": null,
   "id": "8e5f39bd",
   "metadata": {},
   "outputs": [],
   "source": [
    "#Róźnicowanie błędów\n",
    "\n",
    "import sys\n",
    "try:\n",
    "    amount = input(\"Enter amount of points: \")\n",
    "\n",
    "    int_amount = int(amount)\n",
    "    sum = int_amount / 10 + 5\n",
    "    print('Sum {0:4f}'.format(sum))\n",
    "    \n",
    "except ValueError as e:\n",
    "    print('You need to enter an integer number.', e)    #zmienna e niesie dodatkowe informacje dotyczące błędu, do którego doszło.\n",
    "\n",
    "except ZeroDivisionError as e:\n",
    "    print('You need to enter value > 0.', e)\n",
    "    \n",
    "    \n",
    "except:\n",
    "    print(\"Something went wrong.\", sys.exc_info()[0])                     #Zwraca tuple o trzech kolumnach, ale nas intersuje pierwsza o indeksie 0.\n",
    "                                                                          #Zawiera tekst błędu, do którego doszło w skrypcie.\n"
   ]
  },
  {
   "cell_type": "code",
   "execution_count": null,
   "id": "af944393",
   "metadata": {},
   "outputs": [],
   "source": [
    "#Róźnicowanie błędów\n",
    "\n",
    "import sys\n",
    "try:\n",
    "    amount = input(\"Enter amount of points: \")\n",
    "\n",
    "    int_amount = int(amount)\n",
    "    sum = int_amount / 10 + 5\n",
    "    print('Sum {0:4f}'.format(sum))\n",
    "    \n",
    "except ValueError as e:\n",
    "    print('You need to enter an integer number.', e)    #zmienna e niesie dodatkowe informacje dotyczące błędu, do którego doszło.\n",
    "\n",
    "except ZeroDivisionError as e:\n",
    "    print('You need to enter value > 0.', e)\n",
    "    \n",
    "    \n",
    "except:\n",
    "    print(\"Something went wrong.\", sys.exc_info()[0])                     #Zwraca tuple o trzech kolumnach, ale nas intersuje pierwsza o indeksie 0.\n",
    "                                                                          #Zawiera tekst błędu, do którego doszło w skrypcie.\n"
   ]
  },
  {
   "cell_type": "code",
   "execution_count": null,
   "id": "03535792",
   "metadata": {},
   "outputs": [],
   "source": [
    "#Róźnicowanie błędów\n",
    "\n",
    "import sys\n",
    "try:\n",
    "    amount = input(\"Enter amount of points: \")\n",
    "\n",
    "    int_amount = int(amount)\n",
    "    sum = int_amount / 10 + 5\n",
    "    \n",
    "    \n",
    "except ValueError as e:\n",
    "    print('You need to enter an integer number.', e)    #zmienna e niesie dodatkowe informacje dotyczące błędu, do którego doszło.\n",
    "\n",
    "except ZeroDivisionError as e:\n",
    "    print('You need to enter value > 0.', e)\n",
    "    \n",
    "    \n",
    "except:\n",
    "    print(\"Something went wrong.\", sys.exc_info()[0])                     #Zwraca tuple o trzech kolumnach, ale nas intersuje pierwsza o indeksie 0.\n",
    "else:\n",
    "    print('Sum {0:4f}'.format(sum))                                       #Zawiera tekst błędu, do którego doszło w skrypcie.\n",
    "\n",
    "finally:                                                                  #Instrukcja zostanie wykonana bez względu czy pojawiły się błędy czy też nie.\n",
    "    print(\"It's the end.\")"
   ]
  },
  {
   "cell_type": "code",
   "execution_count": null,
   "id": "178f3b46",
   "metadata": {},
   "outputs": [],
   "source": []
  }
 ],
 "metadata": {
  "kernelspec": {
   "display_name": "Python 3 (ipykernel)",
   "language": "python",
   "name": "python3"
  },
  "language_info": {
   "codemirror_mode": {
    "name": "ipython",
    "version": 3
   },
   "file_extension": ".py",
   "mimetype": "text/x-python",
   "name": "python",
   "nbconvert_exporter": "python",
   "pygments_lexer": "ipython3",
   "version": "3.9.7"
  }
 },
 "nbformat": 4,
 "nbformat_minor": 5
}