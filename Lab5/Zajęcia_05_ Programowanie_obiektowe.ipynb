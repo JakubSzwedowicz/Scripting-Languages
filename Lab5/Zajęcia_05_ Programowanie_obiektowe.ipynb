{
 "cells": [
  {
   "cell_type": "markdown",
   "id": "53f150e1",
   "metadata": {},
   "source": [
    "#### 1. Metoda klasy - dekorator @classmethod      -   umożliwia przekształcenie metody w metodę klasy"
   ]
  },
  {
   "cell_type": "code",
   "execution_count": 6,
   "id": "17ce47e3",
   "metadata": {},
   "outputs": [
    {
     "name": "stdout",
     "output_type": "stream",
     "text": [
      "Running...\n",
      "Running...\n"
     ]
    }
   ],
   "source": [
    "class Phone:\n",
    "    \n",
    "    def show(cls):\n",
    "        print('Running...')\n",
    "\n",
    "    show = classmethod(show)\n",
    "\n",
    "Phone.show()\n",
    "\n",
    "phone1 = Phone()\n",
    "phone1.show()"
   ]
  },
  {
   "cell_type": "code",
   "execution_count": 10,
   "id": "dba2f45d",
   "metadata": {},
   "outputs": [
    {
     "data": {
      "text/plain": [
       "mappingproxy({'__module__': '__main__',\n",
       "              'show': <classmethod at 0x2969d19a610>,\n",
       "              'printer': <function __main__.Phone.printer(self)>,\n",
       "              '__dict__': <attribute '__dict__' of 'Phone' objects>,\n",
       "              '__weakref__': <attribute '__weakref__' of 'Phone' objects>,\n",
       "              '__doc__': None})"
      ]
     },
     "execution_count": 10,
     "metadata": {},
     "output_type": "execute_result"
    }
   ],
   "source": [
    "class Phone:\n",
    "    \n",
    "    @classmethod\n",
    "    def show(cls):\n",
    "        print(f'Running...{cls}.')\n",
    "\n",
    "    \n",
    "    def printer(self):\n",
    "        print(f'Describing...{self}.')\n",
    "\n",
    "Phone.__dict__\n",
    "#Phone.show()\n",
    "#phone1 = Phone()\n",
    "#phone1.show()"
   ]
  },
  {
   "cell_type": "markdown",
   "id": "fdf9cac7",
   "metadata": {},
   "source": [
    "#### 2. Metoda statyczna - dekorator @staticmethod  - przekształca metodę w metodę statyczną"
   ]
  },
  {
   "cell_type": "code",
   "execution_count": 18,
   "id": "07f6465f",
   "metadata": {},
   "outputs": [
    {
     "data": {
      "text/plain": [
       "'13:01:26'"
      ]
     },
     "execution_count": 18,
     "metadata": {},
     "output_type": "execute_result"
    }
   ],
   "source": [
    "import time\n",
    "\n",
    "class Phone:\n",
    "    \n",
    "    def get_time():\n",
    "        return time.strftime('%H:%M:%S', time.localtime())\n",
    "    \n",
    "    get_time = staticmethod(get_time)\n",
    "    \n",
    "#Phone.__dict__\n",
    "Phone.get_time()\n",
    "        "
   ]
  },
  {
   "cell_type": "code",
   "execution_count": 24,
   "id": "3cbfd268",
   "metadata": {},
   "outputs": [
    {
     "data": {
      "text/plain": [
       "[(<__main__.Phone at 0x2969d1acee0>, '13:11:28'),\n",
       " (<__main__.Phone at 0x2969d1ac940>, '13:11:28')]"
      ]
     },
     "execution_count": 24,
     "metadata": {},
     "output_type": "execute_result"
    }
   ],
   "source": [
    "import time\n",
    "\n",
    "class Phone:\n",
    "    \n",
    "    instances = []\n",
    "    def __init__(self):\n",
    "        creation_time = Phone.get_time()\n",
    "        Phone.instances.append((self, creation_time))\n",
    "    \n",
    "    @staticmethod\n",
    "    def get_time():\n",
    "        return time.strftime('%H:%M:%S', time.localtime())\n",
    "    \n",
    "    #get_time = staticmethod(get_time)\n",
    "    \n",
    "#Phone.__dict__\n",
    "Phone.get_time()\n",
    "\n",
    "phone1 =Phone()\n",
    "phone1.get_time()\n",
    "Phone.instances\n",
    "phone2 =Phone()\n",
    "Phone.instances"
   ]
  },
  {
   "cell_type": "markdown",
   "id": "2263410e",
   "metadata": {},
   "source": [
    "#### 3. Metody specjalne"
   ]
  },
  {
   "cell_type": "code",
   "execution_count": 1,
   "id": "af183e63",
   "metadata": {},
   "outputs": [],
   "source": [
    "#   __new__   \n",
    "\n",
    "#   __init__\n",
    "\n",
    "#   __del__\n",
    "\n",
    "#   __str__\n",
    "\n",
    "#   __repr__\n",
    "\n",
    "#   __len__\n",
    "\n",
    "#   __bool__\n"
   ]
  },
  {
   "cell_type": "code",
   "execution_count": 2,
   "id": "5f89e64d",
   "metadata": {},
   "outputs": [
    {
     "data": {
      "text/plain": [
       "{'name': 'Samsung'}"
      ]
     },
     "execution_count": 2,
     "metadata": {},
     "output_type": "execute_result"
    }
   ],
   "source": [
    "#   __new__()   +   __init__()         #Metoda __new__ wywoływana podcza stworzenia instancji\n",
    "                                       #Metoda __init__ inicjuje instację klasy\n",
    "    \n",
    "class Phone:\n",
    "    \"\"\" The Phone class docs.\"\"\"\n",
    "    \n",
    "    def __init__(self, name):\n",
    "        self.name = name\n",
    "        \n",
    "phone1 = Phone('Samsung')\n",
    "phone1.__dict__\n",
    "\n",
    "\n",
    "\n"
   ]
  },
  {
   "cell_type": "code",
   "execution_count": 6,
   "id": "6ab197db",
   "metadata": {},
   "outputs": [],
   "source": [
    "phone2 = Phone.__new__(Phone)"
   ]
  },
  {
   "cell_type": "code",
   "execution_count": 7,
   "id": "2c5f1928",
   "metadata": {},
   "outputs": [
    {
     "data": {
      "text/plain": [
       "{'name': 'Xiaomi'}"
      ]
     },
     "execution_count": 7,
     "metadata": {},
     "output_type": "execute_result"
    }
   ],
   "source": [
    "phone2.__init__('Xiaomi')\n",
    "phone2.__dict__"
   ]
  },
  {
   "cell_type": "code",
   "execution_count": 13,
   "id": "a3cc22ca",
   "metadata": {},
   "outputs": [
    {
     "data": {
      "text/plain": [
       "'<__main__.Phone object at 0x000001B191F9C130>'"
      ]
     },
     "execution_count": 13,
     "metadata": {},
     "output_type": "execute_result"
    }
   ],
   "source": [
    "#   __repr__()     #zwraca formalną reprezentację obiektu\n",
    "\n",
    "class Phone:\n",
    "    \n",
    "    def __init__(self, brand):\n",
    "        self.brand = brand\n",
    "    \n",
    "Phone.__dict__\n",
    "repr(Phone)      \n",
    "    \n",
    "phone1 = Phone('Samsung')\n",
    "repr(phone1)\n"
   ]
  },
  {
   "cell_type": "code",
   "execution_count": 18,
   "id": "5baf213a",
   "metadata": {},
   "outputs": [
    {
     "data": {
      "text/plain": [
       "<method-wrapper '__str__' of Phone object at 0x000001B191F9C460>"
      ]
     },
     "execution_count": 18,
     "metadata": {},
     "output_type": "execute_result"
    }
   ],
   "source": [
    "#   __str__()      #Tekstowa reprezentacja obiektu \n",
    "\n",
    "class Phone:\n",
    "    \n",
    "    def __init__(self, brand):\n",
    "        self.brand = brand\n",
    "        \n",
    "Phone.__str__\n",
    "\n",
    "phone1 = Phone('Samsung')\n",
    "phone1.__str__"
   ]
  },
  {
   "cell_type": "code",
   "execution_count": 1,
   "id": "2dd39f91",
   "metadata": {},
   "outputs": [],
   "source": [
    "#     __len__()    Metoda wywoływana podczas wykonywania funkcji len()    - zwraca liczbę elementów kolekcji\n",
    "#    __bool__()   Metoda wywoływana w celu testowania wartości logicznych (True or False)   \n",
    "\n"
   ]
  },
  {
   "cell_type": "markdown",
   "id": "6a6f26ff",
   "metadata": {},
   "source": [
    "#### 4. Dziedziczenie  - współdzelenie funkcjinalności pomiędzy klasami. \n",
    "\n",
    "*  Klasa może dziedziczyć po innej klasie   (oprócz własnych atrybutów i metod uzyskuje dostęp do atrybutów i metod innej klasy, po której dziedziczy).\n",
    "\n",
    "##### [Klasa, która dzieczy jest nazywana pochodną lub potomną.]\n",
    "#####  [Klasa, po której następuje dziedziczenie to klasa bazowa]\n",
    "\n",
    "\n",
    "   \n"
   ]
  },
  {
   "cell_type": "code",
   "execution_count": 3,
   "id": "cdf482d0",
   "metadata": {},
   "outputs": [],
   "source": [
    "#A. Dziedziczenie pojedyncze -  gdy klasa pochodna dziedziczy dokładnie po jednej klasie bazowej.\n",
    "\n",
    "class Parent:\n",
    "    pass\n",
    "   \n",
    "class Child(Parent):\n",
    "    pass"
   ]
  },
  {
   "cell_type": "code",
   "execution_count": 5,
   "id": "7b55b12b",
   "metadata": {},
   "outputs": [],
   "source": [
    "# B. Dziedzicznenie wielokrotne - gdy klasa pochodna dziedziczy po więcej niż jednej klasie bazowej\n",
    "\n",
    "class Parent1:\n",
    "    pass\n",
    "\n",
    "class Parent2:\n",
    "    pass\n",
    "\n",
    "class child(Parent1, Parent2):\n",
    "    pass\n",
    "\n",
    "#kolejność podawania klas w dziedziczeniu jest istotna"
   ]
  },
  {
   "cell_type": "code",
   "execution_count": 6,
   "id": "9684f320",
   "metadata": {},
   "outputs": [],
   "source": [
    "# C. Dziedziczenie wielopoziomowe \n",
    "\n",
    "class Parent:\n",
    "    pass\n",
    "\n",
    "class Child1(Parent):\n",
    "    pass\n",
    "\n",
    "class Child2(Child1):\n",
    "    pass"
   ]
  },
  {
   "cell_type": "code",
   "execution_count": 7,
   "id": "cfff928e",
   "metadata": {},
   "outputs": [],
   "source": [
    "# D. Dziedziczenie hierarchiczne \n",
    "\n",
    "class Parent:\n",
    "    pass\n",
    "\n",
    "class Child1(Parent):\n",
    "    pass\n",
    "\n",
    "class Child2(Parent):\n",
    "    pass\n",
    "\n",
    "class Child3(Parent):\n",
    "    pass\n"
   ]
  },
  {
   "cell_type": "code",
   "execution_count": 16,
   "id": "b8d1a879",
   "metadata": {},
   "outputs": [],
   "source": [
    "#Dziedziczenie pojedyncze\n",
    "\n",
    "class Vehicle:\n",
    "    pass\n",
    "\n",
    "class LandVehicle(Vehicle):\n",
    "    pass\n",
    "\n",
    "class Bike(LandVehicle):\n",
    "    pass\n",
    "\n",
    "class Car(LandVehicle):\n",
    "    pass\n",
    "\n",
    "class Truck(LandVehicle):\n",
    "    pass\n",
    "\n",
    "\n",
    "class AirVehicle(Vehicle):\n",
    "    pass\n",
    "\n",
    "class Plane(AirVehicle):\n",
    "    pass\n",
    "\n",
    "class Helicopter(AirVehicle):\n",
    "    pass\n",
    "\n",
    "class WaterVehicle(Vehicle):\n",
    "    pass\n",
    "\n",
    "\n"
   ]
  },
  {
   "cell_type": "code",
   "execution_count": 17,
   "id": "9a248dfc",
   "metadata": {},
   "outputs": [],
   "source": [
    "vehicles = [Vehicle(), LandVehicle(), AirVehicle(), WaterVehicle()]"
   ]
  },
  {
   "cell_type": "code",
   "execution_count": 13,
   "id": "49f0e109",
   "metadata": {},
   "outputs": [
    {
     "data": {
      "text/plain": [
       "[<__main__.Vehicle at 0x1f93ea3c6d0>,\n",
       " <__main__.LandVehicle at 0x1f93ea3cd90>,\n",
       " <__main__.AirVehicle at 0x1f93ea3c8b0>,\n",
       " <__main__.WaterVehicle at 0x1f93ea3c070>]"
      ]
     },
     "execution_count": 13,
     "metadata": {},
     "output_type": "execute_result"
    }
   ],
   "source": [
    "vehicles"
   ]
  },
  {
   "cell_type": "code",
   "execution_count": 18,
   "id": "b9bc8c9d",
   "metadata": {},
   "outputs": [
    {
     "data": {
      "text/plain": [
       "True"
      ]
     },
     "execution_count": 18,
     "metadata": {},
     "output_type": "execute_result"
    }
   ],
   "source": [
    "issubclass(LandVehicle, Vehicle)       #Funkcja sprawdza czy dana klasa jest pochodną klasą (LandVehicle) po klasie bazowej (Vehicle)\n",
    "                                       #Analogia do funckji isinstance\n",
    "    \n",
    "issubclass(Bike, (Vehicle, AirVehicle))  #Zaobserwuj wyniki - zwróci prawdę w przypadku gdy chociaż jedna z klas jest bazową."
   ]
  },
  {
   "cell_type": "markdown",
   "id": "6e33f756",
   "metadata": {},
   "source": [
    "#### Method Resolution Order   - kolejność rozwiązywania metod przez język Python"
   ]
  },
  {
   "cell_type": "code",
   "execution_count": 20,
   "id": "4cd965b0",
   "metadata": {},
   "outputs": [],
   "source": [
    "#Dziedziczenie pojedyncze\n",
    "\n",
    "class Vehicle:\n",
    "    pass\n",
    "\n",
    "class LandVehicle(Vehicle):\n",
    "    pass\n",
    "\n",
    "class Bike(LandVehicle):\n",
    "    pass\n",
    "\n",
    "class Car(LandVehicle):\n",
    "    pass\n",
    "\n",
    "class Truck(LandVehicle):\n",
    "    pass\n",
    "\n",
    "\n",
    "class AirVehicle(Vehicle):\n",
    "    pass\n",
    "\n",
    "class Plane(AirVehicle):\n",
    "    pass\n",
    "\n",
    "class Helicopter(AirVehicle):\n",
    "    pass\n",
    "\n",
    "class WaterVehicle(Vehicle):\n",
    "    pass\n"
   ]
  },
  {
   "cell_type": "code",
   "execution_count": 24,
   "id": "130aa456",
   "metadata": {},
   "outputs": [
    {
     "name": "stdout",
     "output_type": "stream",
     "text": [
      "Help on class Plane in module __main__:\n",
      "\n",
      "class Plane(AirVehicle)\n",
      " |  Method resolution order:\n",
      " |      Plane\n",
      " |      AirVehicle\n",
      " |      Vehicle\n",
      " |      builtins.object\n",
      " |  \n",
      " |  Data descriptors inherited from Vehicle:\n",
      " |  \n",
      " |  __dict__\n",
      " |      dictionary for instance variables (if defined)\n",
      " |  \n",
      " |  __weakref__\n",
      " |      list of weak references to the object (if defined)\n",
      "\n"
     ]
    },
    {
     "data": {
      "text/plain": [
       "(__main__.Plane, __main__.AirVehicle, __main__.Vehicle, object)"
      ]
     },
     "execution_count": 24,
     "metadata": {},
     "output_type": "execute_result"
    }
   ],
   "source": [
    "help(Plane)       #Method Resolution Order - porządek z jakim Python szuka kolejnych metod (szczególnie jeżeli użyliśmy tych samych nazw)\n",
    "Plane.__mro__"
   ]
  },
  {
   "cell_type": "markdown",
   "id": "63ea700e",
   "metadata": {},
   "source": [
    "#### Nadpisywanie metod"
   ]
  },
  {
   "cell_type": "code",
   "execution_count": 40,
   "id": "4de6ff2d",
   "metadata": {},
   "outputs": [],
   "source": [
    "class Vehicle:\n",
    "        \n",
    "    def __init__(self, category):\n",
    "        self._category = category\n",
    "        \n",
    "    def describe(self):\n",
    "        return f'This is describing our methody for {self._category}'\n",
    "            "
   ]
  },
  {
   "cell_type": "code",
   "execution_count": 41,
   "id": "47a825b8",
   "metadata": {},
   "outputs": [],
   "source": [
    "vehicle1 = Vehicle('Audi')"
   ]
  },
  {
   "cell_type": "code",
   "execution_count": 42,
   "id": "4cd05b46",
   "metadata": {},
   "outputs": [
    {
     "data": {
      "text/plain": [
       "'This is describing our methody for Audi'"
      ]
     },
     "execution_count": 42,
     "metadata": {},
     "output_type": "execute_result"
    }
   ],
   "source": [
    "vehicle1.describe()"
   ]
  },
  {
   "cell_type": "markdown",
   "id": "8cfccb5c",
   "metadata": {},
   "source": [
    "#### Nadpisywanie metod wbudowanych"
   ]
  },
  {
   "cell_type": "code",
   "execution_count": 63,
   "id": "7abc7cb0",
   "metadata": {},
   "outputs": [],
   "source": [
    "class Vehicle:\n",
    "        \n",
    "    def __init__(self, category):\n",
    "        self._category = category\n",
    "        \n",
    "    def __repr__(self):\n",
    "        return f'This is describing our methody for {self._category}'\n",
    "    \n",
    "class LandVehicle(Vehicle):\n",
    "    pass\n",
    "\n",
    "\n",
    "class AirVehicle(Vehicle):\n",
    "    pass\n",
    "\n"
   ]
  },
  {
   "cell_type": "code",
   "execution_count": 64,
   "id": "11057120",
   "metadata": {},
   "outputs": [],
   "source": [
    "vehicles = [Vehicle('BMW'), LandVehicle('Land'), AirVehicle('Air')]"
   ]
  },
  {
   "cell_type": "code",
   "execution_count": 65,
   "id": "ab307c7a",
   "metadata": {},
   "outputs": [
    {
     "data": {
      "text/plain": [
       "[This is describing our methody for BMW,\n",
       " This is describing our methody for Land,\n",
       " This is describing our methody for Air]"
      ]
     },
     "execution_count": 65,
     "metadata": {},
     "output_type": "execute_result"
    }
   ],
   "source": [
    "vehicles"
   ]
  },
  {
   "cell_type": "code",
   "execution_count": 69,
   "id": "20a066dd",
   "metadata": {},
   "outputs": [],
   "source": [
    "vehicle3 = Vehicle('Audi')"
   ]
  },
  {
   "cell_type": "code",
   "execution_count": 71,
   "id": "b153369c",
   "metadata": {},
   "outputs": [
    {
     "name": "stdout",
     "output_type": "stream",
     "text": [
      "Help on Vehicle in module __main__ object:\n",
      "\n",
      "class Vehicle(builtins.object)\n",
      " |  Vehicle(category)\n",
      " |  \n",
      " |  Methods defined here:\n",
      " |  \n",
      " |  __init__(self, category)\n",
      " |      Initialize self.  See help(type(self)) for accurate signature.\n",
      " |  \n",
      " |  __repr__(self)\n",
      " |      Return repr(self).\n",
      " |  \n",
      " |  ----------------------------------------------------------------------\n",
      " |  Data descriptors defined here:\n",
      " |  \n",
      " |  __dict__\n",
      " |      dictionary for instance variables (if defined)\n",
      " |  \n",
      " |  __weakref__\n",
      " |      list of weak references to the object (if defined)\n",
      "\n"
     ]
    }
   ],
   "source": [
    "help(vehicle3)"
   ]
  },
  {
   "cell_type": "code",
   "execution_count": 84,
   "id": "07e6ee87",
   "metadata": {},
   "outputs": [],
   "source": [
    "class User:\n",
    "    \n",
    "    def start(self):\n",
    "        print('Starting...')\n",
    "    \n",
    "    def speak(self):\n",
    "        print('Speaking...')\n",
    "        \n",
    "    def work(self):\n",
    "        print('Working...')\n",
    "        \n",
    "    def end (self):\n",
    "        print('Ending...')\n",
    "        \n",
    "    def connection(self):\n",
    "        self.start()\n",
    "        self.speak()\n",
    "        self.work()\n",
    "        self.end()\n",
    "        \n",
    "class Student(User):\n",
    "    \n",
    "    \n",
    "    def work(self):\n",
    "        print('Studing...')\n",
    "\n",
    "user1 = User()\n",
    "student1 = Student()"
   ]
  },
  {
   "cell_type": "code",
   "execution_count": 85,
   "id": "53c5006b",
   "metadata": {},
   "outputs": [
    {
     "name": "stdout",
     "output_type": "stream",
     "text": [
      "Starting...\n",
      "Speaking...\n",
      "Working...\n",
      "Ending...\n"
     ]
    }
   ],
   "source": [
    "user1.connection()"
   ]
  },
  {
   "cell_type": "code",
   "execution_count": 86,
   "id": "b7acce5c",
   "metadata": {},
   "outputs": [
    {
     "name": "stdout",
     "output_type": "stream",
     "text": [
      "Starting...\n",
      "Speaking...\n",
      "Studing...\n",
      "Ending...\n"
     ]
    }
   ],
   "source": [
    "student1.connection()"
   ]
  },
  {
   "cell_type": "code",
   "execution_count": 96,
   "id": "f358920e",
   "metadata": {},
   "outputs": [],
   "source": [
    "class Vehicle:\n",
    "        \n",
    "    year = 2020\n",
    "    def __init__(self, category):\n",
    "        self._category = category\n",
    "        \n",
    "    def __repr__(self):\n",
    "        return f'The year of {self._category} is {Vehicle.year} '\n",
    "    \n",
    "class LandVehicle(Vehicle):\n",
    "    year = 2022\n",
    "\n",
    "\n",
    "class AirVehicle(Vehicle):\n",
    "    pass"
   ]
  },
  {
   "cell_type": "code",
   "execution_count": 97,
   "id": "669c7021",
   "metadata": {},
   "outputs": [],
   "source": [
    "vehicles = [Vehicle('Audi'), LandVehicle('BMW') ]"
   ]
  },
  {
   "cell_type": "code",
   "execution_count": 102,
   "id": "2adb0804",
   "metadata": {},
   "outputs": [
    {
     "name": "stdout",
     "output_type": "stream",
     "text": [
      "<bound method Vehicle.__repr__ of The year of Audi is 2020 >\n",
      "<bound method Vehicle.__repr__ of The year of BMW is 2020 >\n"
     ]
    }
   ],
   "source": [
    "for vehicle in vehicles:\n",
    "    print(vehicle.__repr__)     #Zaobserwuj wynik"
   ]
  },
  {
   "cell_type": "code",
   "execution_count": 103,
   "id": "277ec285",
   "metadata": {},
   "outputs": [],
   "source": [
    "class Vehicle:\n",
    "        \n",
    "    year = 2020\n",
    "    def __init__(self, category):\n",
    "        self._category = category\n",
    "        \n",
    "    def __repr__(self):\n",
    "        return f'The year of {self._category} is {self.__class__.year} '   #\n",
    "    \n",
    "class LandVehicle(Vehicle):\n",
    "    year = 2022\n",
    "\n",
    "\n",
    "class AirVehicle(Vehicle):\n",
    "    pass"
   ]
  },
  {
   "cell_type": "code",
   "execution_count": 104,
   "id": "3f1e7ac0",
   "metadata": {},
   "outputs": [],
   "source": [
    "vehicles = [Vehicle('Audi'), LandVehicle('BMW') ]"
   ]
  },
  {
   "cell_type": "code",
   "execution_count": 105,
   "id": "1c892f72",
   "metadata": {},
   "outputs": [
    {
     "name": "stdout",
     "output_type": "stream",
     "text": [
      "<bound method Vehicle.__repr__ of The year of Audi is 2020 >\n",
      "<bound method Vehicle.__repr__ of The year of BMW is 2022 >\n"
     ]
    }
   ],
   "source": [
    "for vehicle in vehicles:\n",
    "    print(vehicle.__repr__)     #Zaobserwuj wynik"
   ]
  },
  {
   "cell_type": "markdown",
   "id": "11dc79d4",
   "metadata": {},
   "source": [
    "#### super()   - klasa wbudowana super()            Jej wywołanie daje dostęp do metod z klasy bazowej w klasie pochodnej"
   ]
  },
  {
   "cell_type": "code",
   "execution_count": 106,
   "id": "29b74905",
   "metadata": {},
   "outputs": [],
   "source": [
    "class Vehicle:\n",
    "    \n",
    "    def __init__(self, brand, year):\n",
    "        self.brand = brand\n",
    "        self.year = year\n",
    "       \n",
    "    \n",
    "class Car(Vehicle):\n",
    "    \n",
    "    \n",
    "    def __init__(self, brand, year, horsepower):\n",
    "        self.brand = brand\n",
    "        self.year = year\n",
    "        self.horsepower = horsepower"
   ]
  },
  {
   "cell_type": "code",
   "execution_count": 142,
   "id": "4e1f86b3",
   "metadata": {},
   "outputs": [],
   "source": [
    "class Vehicle:\n",
    "    \n",
    "    def __init__(self, brand, year):\n",
    "        self.brand = brand\n",
    "        self.year = year\n",
    "        \n",
    "    def __repr__(self):\n",
    "        return f'Something about: {self.__class__.__name__}'\n",
    "        \n",
    "class Car(Vehicle):\n",
    "    \n",
    "    def __init__(self, brand, year, horsepower):\n",
    "        super().__init__(brand, year)\n",
    "        self.horsepower = horsepower\n",
    "\n",
    "    "
   ]
  },
  {
   "cell_type": "code",
   "execution_count": 143,
   "id": "63aa83dd",
   "metadata": {},
   "outputs": [],
   "source": [
    "vehicle1 = Vehicle('BMW', 2020)"
   ]
  },
  {
   "cell_type": "code",
   "execution_count": 144,
   "id": "f58536a5",
   "metadata": {},
   "outputs": [
    {
     "data": {
      "text/plain": [
       "{'brand': 'BMW', 'year': 2020}"
      ]
     },
     "execution_count": 144,
     "metadata": {},
     "output_type": "execute_result"
    }
   ],
   "source": [
    "vehicle1.__dict__"
   ]
  },
  {
   "cell_type": "code",
   "execution_count": 145,
   "id": "50d4e85d",
   "metadata": {},
   "outputs": [],
   "source": [
    "car1 = Car('Audi', 2019, 200)"
   ]
  },
  {
   "cell_type": "code",
   "execution_count": 146,
   "id": "8665e726",
   "metadata": {},
   "outputs": [
    {
     "data": {
      "text/plain": [
       "{'brand': 'Audi', 'year': 2019, 'horsepower': 200}"
      ]
     },
     "execution_count": 146,
     "metadata": {},
     "output_type": "execute_result"
    }
   ],
   "source": [
    "car1.__dict__"
   ]
  },
  {
   "cell_type": "code",
   "execution_count": 147,
   "id": "a42ceeba",
   "metadata": {},
   "outputs": [
    {
     "data": {
      "text/plain": [
       "<bound method Vehicle.__repr__ of Something about: Car>"
      ]
     },
     "execution_count": 147,
     "metadata": {},
     "output_type": "execute_result"
    }
   ],
   "source": [
    "car1.__repr__"
   ]
  },
  {
   "cell_type": "code",
   "execution_count": 148,
   "id": "c625b2f3",
   "metadata": {},
   "outputs": [
    {
     "data": {
      "text/plain": [
       "<bound method Vehicle.__repr__ of Something about: Vehicle>"
      ]
     },
     "execution_count": 148,
     "metadata": {},
     "output_type": "execute_result"
    }
   ],
   "source": [
    "vehicle1.__repr__"
   ]
  },
  {
   "cell_type": "code",
   "execution_count": null,
   "id": "5647cadf",
   "metadata": {},
   "outputs": [],
   "source": []
  },
  {
   "cell_type": "code",
   "execution_count": null,
   "id": "a6b7ccb5",
   "metadata": {},
   "outputs": [],
   "source": []
  }
 ],
 "metadata": {
  "kernelspec": {
   "display_name": "Python 3 (ipykernel)",
   "language": "python",
   "name": "python3"
  },
  "language_info": {
   "codemirror_mode": {
    "name": "ipython",
    "version": 3
   },
   "file_extension": ".py",
   "mimetype": "text/x-python",
   "name": "python",
   "nbconvert_exporter": "python",
   "pygments_lexer": "ipython3",
   "version": "3.9.7"
  }
 },
 "nbformat": 4,
 "nbformat_minor": 5
}
