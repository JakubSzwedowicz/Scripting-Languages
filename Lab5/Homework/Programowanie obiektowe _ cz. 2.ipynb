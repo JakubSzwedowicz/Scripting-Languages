{
 "cells": [
  {
   "cell_type": "markdown",
   "id": "ca753935",
   "metadata": {},
   "source": [
    "#### 1. Hermetyzacja\n"
   ]
  },
  {
   "cell_type": "code",
   "execution_count": 30,
   "id": "bd1a9b6b",
   "metadata": {},
   "outputs": [],
   "source": [
    "#Walidacja cdn.\n",
    "\n",
    "class Phone:\n",
    "    \n",
    "    def __init__(self, price):\n",
    "        self.set_price(price)                       #Walidacja również na etapie tworzenia obiektu\n",
    "        self._price = price\n",
    "        \n",
    "    \n",
    "    def get_price(self):\n",
    "        return self._price\n",
    "    \n",
    "    \n",
    "    def set_price(self, value):\n",
    "        if isinstance(value, (int, float)):\n",
    "            if value > 0:\n",
    "                self._price = value\n",
    "            else:\n",
    "                raise ValueError('Thie price attribute must be positive.')\n",
    "        else:\n",
    "            raise TypeError('The price attribute must be an int or float value.')\n",
    "        \n",
    "        \n",
    "        \n",
    "phone1 = Phone(2500)          #Możemy przypisać i modyfikować każdą wartość atrybutu\n",
    "#phone1.get_price()\n",
    "#phone1.set_price(3500)\n",
    "#phone1.get_price()\n",
    "#phone1.set_price('Apple')     #Zwróci błąd\n",
    "#phone1.set_price(-3000)       #Zwróci błąd\n",
    "#phone2 = Phone('Apple')"
   ]
  },
  {
   "cell_type": "code",
   "execution_count": 14,
   "id": "65274df6",
   "metadata": {},
   "outputs": [
    {
     "name": "stdout",
     "output_type": "stream",
     "text": [
      "Getting...\n"
     ]
    },
    {
     "data": {
      "text/plain": [
       "2500"
      ]
     },
     "execution_count": 14,
     "metadata": {},
     "output_type": "execute_result"
    }
   ],
   "source": [
    "#Właściwości property\n",
    "#help(property)   - sprawdź\n",
    "\n",
    "class Phone:\n",
    "    \"\"\" Phone class docs.\"\"\"\n",
    "    \n",
    "    def __init__(self, price):\n",
    "        self._price = price\n",
    "        \n",
    "    def price(self):                             \n",
    "        print('Getting...')\n",
    "        return self._price\n",
    "    \n",
    "    def set_price(self, value):\n",
    "        if isinstance(value, (int, float)):\n",
    "            if value > 0:\n",
    "                self._price = value\n",
    "            else:\n",
    "                raise TypeError('The price attribute must be positive.')\n",
    "        else:\n",
    "            raise ValueError('The price attribute must be an int or float value.')\n",
    "            \n",
    "    def del_price(self):\n",
    "        del self._price\n",
    "\n",
    "    price = property(fget=price, fset=set_price, fdel= del_price, doc = 'Phone price.')                             #Włąsciwości property - jeżeli przekażemy w property tylko argument fget -> atrybut tylko do odczytu !\n",
    "                                                                                                                              #Nie możemy go modyfikować ani usunąć - zabezpieczamy w ten sposób kod przed użytkownikiem.\n",
    "phone1 = Phone(2500)\n",
    "#phone1.get_price()\n",
    "phone1.price\n",
    "#phone1.price(2300)    #Zaobserwuj\n",
    "#del phone1.price"
   ]
  },
  {
   "cell_type": "code",
   "execution_count": 1,
   "id": "6743fd3f",
   "metadata": {},
   "outputs": [
    {
     "ename": "NameError",
     "evalue": "name 'Phone' is not defined",
     "output_type": "error",
     "traceback": [
      "\u001B[0;31m---------------------------------------------------------------------------\u001B[0m",
      "\u001B[0;31mNameError\u001B[0m                                 Traceback (most recent call last)",
      "Input \u001B[0;32mIn [1]\u001B[0m, in \u001B[0;36m<cell line: 1>\u001B[0;34m()\u001B[0m\n\u001B[0;32m----> 1\u001B[0m phone2 \u001B[38;5;241m=\u001B[39m \u001B[43mPhone\u001B[49m(\u001B[38;5;241m4500\u001B[39m)\n\u001B[1;32m      2\u001B[0m \u001B[38;5;66;03m#phone2.price\u001B[39;00m\n\u001B[1;32m      3\u001B[0m phone2\u001B[38;5;241m.\u001B[39mprice \u001B[38;5;241m=\u001B[39m \u001B[38;5;241m3500\u001B[39m\n",
      "\u001B[0;31mNameError\u001B[0m: name 'Phone' is not defined"
     ]
    }
   ],
   "source": [
    "phone2 = Phone(4500)\n",
    "#phone2.price\n",
    "phone2.price = 3500\n",
    "phone2.price\n",
    "#del phone2.price\n",
    "#phone2.price"
   ]
  },
  {
   "cell_type": "code",
   "execution_count": null,
   "outputs": [],
   "source": [],
   "metadata": {
    "collapsed": false,
    "pycharm": {
     "name": "#%%\n"
    }
   }
  },
  {
   "cell_type": "code",
   "execution_count": null,
   "outputs": [],
   "source": [],
   "metadata": {
    "collapsed": false,
    "pycharm": {
     "name": "#%%\n"
    }
   }
  },
  {
   "cell_type": "code",
   "execution_count": 26,
   "id": "1faa4a48",
   "metadata": {},
   "outputs": [
    {
     "name": "stdout",
     "output_type": "stream",
     "text": [
      "Hello World!\n",
      "This is my printer.\n",
      "Hello World!\n",
      "This is my printer.\n"
     ]
    }
   ],
   "source": [
    "def printer_2(func):\n",
    "    def wraper():\n",
    "        print('Hello World!')\n",
    "        func()\n",
    "    return wraper\n",
    "\n",
    "printer_2(printer)()\n",
    "hello = printer_2(printer)\n",
    "hello()"
   ]
  },
  {
   "cell_type": "code",
   "execution_count": 29,
   "id": "1ffd892e",
   "metadata": {},
   "outputs": [
    {
     "name": "stdout",
     "output_type": "stream",
     "text": [
      "Hello World!\n",
      "This is my printer.\n"
     ]
    }
   ],
   "source": [
    "@printer_2                                #Udekorowanie funckji - lukier składniowy\n",
    "def printer():\n",
    "    print('This is my printer.')\n",
    "\n",
    "\n",
    "def printer_2(func):\n",
    "    def wraper():\n",
    "        print('Hello World!')\n",
    "        func()\n",
    "    return wraper\n",
    "\n",
    "printer()\n"
   ]
  },
  {
   "cell_type": "code",
   "execution_count": 2,
   "id": "c929ea1a",
   "metadata": {},
   "outputs": [
    {
     "name": "stdout",
     "output_type": "stream",
     "text": [
      "Getting...\n",
      "Getting...\n"
     ]
    }
   ],
   "source": [
    "class Phone:\n",
    "    \"\"\" Phone class docs.\"\"\"\n",
    "    \n",
    "    def __init__(self, price):\n",
    "        self.price = price\n",
    "        \n",
    "    @property\n",
    "    def price(self):                             \n",
    "        print('Getting...')\n",
    "        return self._price\n",
    "    \n",
    "    @price.setter\n",
    "    def price(self, value):\n",
    "        if isinstance(value, (int, float)):\n",
    "            if value > 0:\n",
    "                self._price = value\n",
    "            else:\n",
    "                raise TypeError('The price attribute must be positive.')\n",
    "        else:\n",
    "            raise ValueError('The price attribute must be an int or float value.')\n",
    "    \n",
    "    @price.deleter\n",
    "    def price(self):\n",
    "        del self._price\n",
    "    \n",
    "    #price = price.setter(set_price)                    #Inna metoda definiowania setera\n",
    "\n",
    "phone1 = Phone(2500)\n",
    "phone1.price\n",
    "phone1.price = 1000\n",
    "phone1.price\n",
    "del phone1.price\n",
    "#Phone.__dict__\n",
    "#phone1.price\n",
    "#phone2 = Phone('2000')            #Zaobserwuj output\n"
   ]
  },
  {
   "cell_type": "code",
   "execution_count": null,
   "id": "ac13a453",
   "metadata": {},
   "outputs": [],
   "source": []
  }
 ],
 "metadata": {
  "kernelspec": {
   "display_name": "Python 3 (ipykernel)",
   "language": "python",
   "name": "python3"
  },
  "language_info": {
   "codemirror_mode": {
    "name": "ipython",
    "version": 3
   },
   "file_extension": ".py",
   "mimetype": "text/x-python",
   "name": "python",
   "nbconvert_exporter": "python",
   "pygments_lexer": "ipython3",
   "version": "3.9.7"
  }
 },
 "nbformat": 4,
 "nbformat_minor": 5
}