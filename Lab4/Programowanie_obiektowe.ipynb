{
 "cells": [
  {
   "cell_type": "markdown",
   "id": "2d7af95b",
   "metadata": {},
   "source": [
    "#### 1. Klasy"
   ]
  },
  {
   "cell_type": "code",
   "execution_count": 7,
   "id": "daf58720",
   "metadata": {},
   "outputs": [
    {
     "data": {
      "text/plain": [
       "type"
      ]
     },
     "execution_count": 7,
     "metadata": {},
     "output_type": "execute_result"
    }
   ],
   "source": [
    "#Definiowanie klasy\n",
    "\n",
    "class Animals:                #Definiowanie klasy   - zaleca się by do definiowania klasy używać definiowania w stylu PascalCase-\n",
    "    pass                      #każdy wyraz z wielkiej litery\n",
    "\n",
    "Animals()\n",
    "\n",
    "type(Animals)"
   ]
  },
  {
   "cell_type": "code",
   "execution_count": 11,
   "id": "d6071e57",
   "metadata": {},
   "outputs": [
    {
     "name": "stdout",
     "output_type": "stream",
     "text": [
      "Help on class Animals in module __main__:\n",
      "\n",
      "class Animals(builtins.object)\n",
      " |  The Animals class\n",
      " |  \n",
      " |  Data descriptors defined here:\n",
      " |  \n",
      " |  __dict__\n",
      " |      dictionary for instance variables (if defined)\n",
      " |  \n",
      " |  __weakref__\n",
      " |      list of weak references to the object (if defined)\n",
      "\n"
     ]
    },
    {
     "data": {
      "text/plain": [
       "(2019126270464, 2019126270656)"
      ]
     },
     "execution_count": 11,
     "metadata": {},
     "output_type": "execute_result"
    }
   ],
   "source": [
    " #Tworzenie obiektu - tworzenie instancji klasy\n",
    "    \n",
    "class Animals:               \n",
    "    \"\"\" The Animals class\"\"\"         #Dokumentacja dotycząca klasy                     \n",
    "\n",
    "animals1 = Animals()                  #Przypisanie do zmiannej\n",
    "animals2 = Animals()\n",
    "animals1\n",
    "animals2\n",
    "\n",
    "\n",
    "isinstance(animals1, Animals)         #Sprawdza czy dany obiekt jest instacją naszej klasy - zwraca wartości True or False\n",
    "\n",
    "help(Animals)                         #Proszę wywołać i przeanalizować po czym dziedziczy klasa?\n",
    "\n",
    "#Jeżeli chcemy wydrukować dokumentację dotyczącą klasy \n",
    "animals.__doc__\n",
    "type(animals1)\n",
    "id(animals1), id(animals2)            #funkcja id() zwraca nam \"miejsce\", do którego przypisana jest w tym przypadku dana instancja\n",
    "                                      #Wartości zwrócone przez funckję id() dla obu instacji są różne, oznacza to, że są to dwa różne obiekty tej samej klasy.\n"
   ]
  },
  {
   "cell_type": "markdown",
   "id": "ba66d8dc",
   "metadata": {},
   "source": [
    "#### 2. Atrybuty klasy"
   ]
  },
  {
   "cell_type": "code",
   "execution_count": 18,
   "id": "d2ccaec8",
   "metadata": {},
   "outputs": [
    {
     "data": {
      "text/plain": [
       "(object,)"
      ]
     },
     "execution_count": 18,
     "metadata": {},
     "output_type": "execute_result"
    }
   ],
   "source": [
    "#Atrybuty wbudowane\n",
    "\n",
    "class Animals:    \n",
    "    \"\"\"The Animals class.\"\"\"\n",
    "Animals.__name__                #Zwraca nazwę klasy\n",
    "Animals.__dict__                #Słownik tylko do odczytu, zwróci atrybity (nie wszytskie) dla klasy\n",
    "Animals.__module__\n",
    "Animals.__doc__                 #Zwróci dokumentację dla klasy\n",
    "\n",
    "Animals.__bases__               #Atrybut bases - zwraca klasy bazowe czyli klasy, po których dziedziczy klasa.\n"
   ]
  },
  {
   "cell_type": "code",
   "execution_count": 30,
   "id": "578ee77a",
   "metadata": {},
   "outputs": [
    {
     "name": "stdout",
     "output_type": "stream",
     "text": [
      "None\n",
      "Brak\n"
     ]
    }
   ],
   "source": [
    "#Atrybuty klasy zdefiniowane przez użytkownika\n",
    "\n",
    "class Phone:\n",
    "    \n",
    "    sector = 'electronics'\n",
    "    os = 'Android'\n",
    "    hight = 1000\n",
    "    width = 500\n",
    "    \n",
    "Phone.sector                            #Wyświetlanie wartości artybutów zdefiniowanych w klasie\n",
    "Phone.hight\n",
    "\n",
    "getattr(Phone, 'sector')                #Funkcja wbudowana getattr poprzez podanie nazwy klasy i atrybutu docieramy do wartości atrybutu\n",
    "\n",
    "#getattr(Phone, 'price')                #Sprawdz co wydarzy się gdy wywoałamy funkcję getattr dla atrybutu nie zdefiniowanego w klasie.\n",
    "print(getattr(Phone, 'price', None))    #Jeżli jako trzeci parametr zdefiniujemy None lub string - zostanie on zwrócony zamiast błędu z przypadku braku atrybutu.\n",
    "print(getattr(Phone, 'price', 'Brak'))\n",
    "\n"
   ]
  },
  {
   "cell_type": "code",
   "execution_count": 41,
   "id": "42883f6e",
   "metadata": {},
   "outputs": [
    {
     "data": {
      "text/plain": [
       "1000"
      ]
     },
     "execution_count": 41,
     "metadata": {},
     "output_type": "execute_result"
    }
   ],
   "source": [
    "#modyfikowanie wartości atrybutów klasy\n",
    "\n",
    "class Phone:\n",
    "    \n",
    "    sector = 'electronics'\n",
    "    os = 'Android'\n",
    "    hight = 1000\n",
    "    width = 500\n",
    "    \n",
    "Phone.hight\n",
    "Phone.hight = 1200   \n",
    "Phone.hight\n",
    "\n",
    "\n",
    "#Funcja wbudowana setattr - umożliwia również modyfikowanie wartosci atrybutu klasy\n",
    "setattr(Phone,'hight', 1000)\n",
    "Phone.hight"
   ]
  },
  {
   "cell_type": "code",
   "execution_count": 44,
   "id": "dcdd0e6a",
   "metadata": {},
   "outputs": [
    {
     "data": {
      "text/plain": [
       "mappingproxy({'__module__': '__main__',\n",
       "              'sector': 'electronics',\n",
       "              'os': 'Android',\n",
       "              'hight': 1000,\n",
       "              'width': 500,\n",
       "              '__dict__': <attribute '__dict__' of 'Phone' objects>,\n",
       "              '__weakref__': <attribute '__weakref__' of 'Phone' objects>,\n",
       "              '__doc__': None,\n",
       "              'color': 'Black',\n",
       "              'material': 'iron'})"
      ]
     },
     "execution_count": 44,
     "metadata": {},
     "output_type": "execute_result"
    }
   ],
   "source": [
    "#Dodawanie atrybutów klasy do klasy w locie\n",
    "\n",
    "class Phone:\n",
    "    \n",
    "    sector = 'electronics'\n",
    "    os = 'Android'\n",
    "    hight = 1000\n",
    "    width = 500\n",
    "    \n",
    "Phone.color = 'Black'\n",
    "\n",
    "setattr(Phone, 'material', 'iron')         #Dodanie atrybutu w locie z wykorzystainem metody setattr\n",
    "\n",
    "Phone.__dict__\n",
    "\n"
   ]
  },
  {
   "cell_type": "code",
   "execution_count": 49,
   "id": "331d2592",
   "metadata": {},
   "outputs": [
    {
     "data": {
      "text/plain": [
       "mappingproxy({'__module__': '__main__',\n",
       "              'sector': 'electronics',\n",
       "              'os': 'Android',\n",
       "              'hight': 1000,\n",
       "              'width': 500,\n",
       "              '__dict__': <attribute '__dict__' of 'Phone' objects>,\n",
       "              '__weakref__': <attribute '__weakref__' of 'Phone' objects>,\n",
       "              '__doc__': None})"
      ]
     },
     "execution_count": 49,
     "metadata": {},
     "output_type": "execute_result"
    }
   ],
   "source": [
    "#Usuwanie atrybutów klasy\n",
    "\n",
    "\n",
    "class Phone:\n",
    "    \n",
    "    sector = 'electronics'\n",
    "    os = 'Android'\n",
    "    hight = 1000\n",
    "    width = 500\n",
    "    \n",
    "Phone.color = 'Black'\n",
    "\n",
    "setattr(Phone, 'material', 'iron')\n",
    "\n",
    "Phone.__dict__\n",
    "\n",
    "#Do usuwania atrybutu stosujemy instrkcję del\n",
    "\n",
    "del Phone.color\n",
    "Phone.__dict__\n",
    "\n",
    "#Usuwanie za pomocą wbudowanej funkcji delattr()\n",
    "\n",
    "delattr(Phone,'material')\n",
    "Phone.__dict__\n"
   ]
  },
  {
   "cell_type": "code",
   "execution_count": 52,
   "id": "4d516373",
   "metadata": {},
   "outputs": [
    {
     "name": "stdout",
     "output_type": "stream",
     "text": [
      "There are options of your phone.\n"
     ]
    }
   ],
   "source": [
    "#Wywoływalne atrybuty klasy\n",
    "\n",
    "class Phone:\n",
    "    \n",
    "    sector = 'electronics'\n",
    "    os = 'Android'\n",
    "    hight = 1000\n",
    "    width = 500\n",
    "    \n",
    "    def YourOptions():\n",
    "        print(\"There are options of your phone.\")\n",
    "        \n",
    "Phone.__dict__\n",
    "\n",
    "Phone.YourOptions()"
   ]
  },
  {
   "cell_type": "code",
   "execution_count": 55,
   "id": "d11d0e15",
   "metadata": {},
   "outputs": [
    {
     "name": "stdout",
     "output_type": "stream",
     "text": [
      "There are 5 floors and an area is 100\n"
     ]
    }
   ],
   "source": [
    "#Przykład\n",
    "\n",
    "class HouseOfProject:\n",
    "    \n",
    "    area = 100\n",
    "    number_of_floors = 5\n",
    "    \n",
    "    def describe():\n",
    "        print(\"There are {} floors and an area is {}\". format(HouseOfProject.number_of_floors, HouseOfProject.area))\n",
    "        \n",
    "HouseOfProject.describe()"
   ]
  },
  {
   "cell_type": "markdown",
   "id": "cfd67d55",
   "metadata": {},
   "source": [
    "#### 3. Atrybuty instancji klasy"
   ]
  },
  {
   "cell_type": "code",
   "execution_count": 6,
   "id": "6f08dd6b",
   "metadata": {},
   "outputs": [
    {
     "data": {
      "text/plain": [
       "<__main__.Book at 0x200c0001820>"
      ]
     },
     "execution_count": 6,
     "metadata": {},
     "output_type": "execute_result"
    }
   ],
   "source": [
    "class Book:\n",
    "    language = 'ENG'\n",
    "    def describe():\n",
    "        print(\"The language of this book is {}\". format(Book.language))\n",
    "    \n",
    "Book()\n"
   ]
  },
  {
   "cell_type": "code",
   "execution_count": 10,
   "id": "a17ddc58",
   "metadata": {},
   "outputs": [
    {
     "data": {
      "text/plain": [
       "{}"
      ]
     },
     "execution_count": 10,
     "metadata": {},
     "output_type": "execute_result"
    }
   ],
   "source": [
    "book1 = Book()\n",
    "book1\n",
    "book1.__dict__\n",
    "book2 = Book()\n",
    "book2\n",
    "book2.__dict__"
   ]
  },
  {
   "cell_type": "code",
   "execution_count": 12,
   "id": "3c089afc",
   "metadata": {},
   "outputs": [
    {
     "data": {
      "text/plain": [
       "'Henryk Sienkiewicz'"
      ]
     },
     "execution_count": 12,
     "metadata": {},
     "output_type": "execute_result"
    }
   ],
   "source": [
    "Book.author = \"Henryk Sienkiewicz\"\n",
    "book1.author\n",
    "book2.author"
   ]
  },
  {
   "cell_type": "code",
   "execution_count": 24,
   "id": "95dc36ec",
   "metadata": {},
   "outputs": [
    {
     "data": {
      "text/plain": [
       "({'author': 'Adam Mickiewicz'}, {})"
      ]
     },
     "execution_count": 24,
     "metadata": {},
     "output_type": "execute_result"
    }
   ],
   "source": [
    "book1.author\n",
    "book1.author = 'Adam Mickiewicz'\n",
    "book1.author\n",
    "book2.author\n",
    "\n",
    "book1.__dict__, book2.__dict__     #Zauważ różnicę pomiędzy zdefiniowanym atrybutem na poziomie klasy i na poziomie instancji"
   ]
  },
  {
   "cell_type": "code",
   "execution_count": 25,
   "id": "58667a4c",
   "metadata": {},
   "outputs": [
    {
     "data": {
      "text/plain": [
       "'Henryk Sienkiewicz'"
      ]
     },
     "execution_count": 25,
     "metadata": {},
     "output_type": "execute_result"
    }
   ],
   "source": [
    "del book1.author\n",
    "book1.author"
   ]
  },
  {
   "cell_type": "code",
   "execution_count": 28,
   "id": "b717631b",
   "metadata": {},
   "outputs": [
    {
     "data": {
      "text/plain": [
       "({'title': 'Krzyżacy'}, {'title': 'Quo vadis', 'year': 1895})"
      ]
     },
     "execution_count": 28,
     "metadata": {},
     "output_type": "execute_result"
    }
   ],
   "source": [
    "book1.title = 'Krzyżacy'\n",
    "book2.title = 'Quo vadis'\n",
    "book2.year = 1895\n",
    "\n",
    "(book1.__dict__, book2.__dict__)\n"
   ]
  },
  {
   "cell_type": "code",
   "execution_count": 31,
   "id": "bae8f920",
   "metadata": {},
   "outputs": [],
   "source": [
    "# Wywoływalne atrybuty instancji\n",
    "\n",
    "class Book:\n",
    "    language = 'PL'\n",
    "    author = 'Adam Mickiewicz'\n",
    "    \n",
    "    def show():\n",
    "        print(Book.language, Book.author)"
   ]
  },
  {
   "cell_type": "code",
   "execution_count": 32,
   "id": "c288752b",
   "metadata": {},
   "outputs": [
    {
     "name": "stdout",
     "output_type": "stream",
     "text": [
      "PL Adam Mickiewicz\n"
     ]
    }
   ],
   "source": [
    "Book.show()"
   ]
  },
  {
   "cell_type": "code",
   "execution_count": 36,
   "id": "3af415d5",
   "metadata": {},
   "outputs": [
    {
     "name": "stdout",
     "output_type": "stream",
     "text": [
      "An author: Adam Mickiewicz\n"
     ]
    }
   ],
   "source": [
    "Book.show_author = lambda: print(f'An author: {Book.author}')\n",
    "Book.show_author()"
   ]
  },
  {
   "cell_type": "code",
   "execution_count": 42,
   "id": "9cb2c6f6",
   "metadata": {},
   "outputs": [],
   "source": [
    "book1 = Book()\n",
    "#book1.show()          #Zaobserwuj\n"
   ]
  },
  {
   "cell_type": "code",
   "execution_count": 73,
   "id": "4371c356",
   "metadata": {},
   "outputs": [
    {
     "data": {
      "text/plain": [
       "{'title': 'Krzyżacy'}"
      ]
     },
     "execution_count": 73,
     "metadata": {},
     "output_type": "execute_result"
    }
   ],
   "source": [
    "class Book:\n",
    "    language = 'PL'\n",
    "    author = 'Henryk Sienkiewicz'\n",
    "    \n",
    "    def show_title(self, value):\n",
    "        self.title = value\n",
    "        \n",
    "book1 = Book()\n",
    "\n",
    "book1.show_title('Krzyżacy')\n",
    "book1.__dict__\n"
   ]
  },
  {
   "cell_type": "code",
   "execution_count": 77,
   "id": "2db93b76",
   "metadata": {},
   "outputs": [
    {
     "data": {
      "text/plain": [
       "'Quo vadis'"
      ]
     },
     "execution_count": 77,
     "metadata": {},
     "output_type": "execute_result"
    }
   ],
   "source": [
    "Book.get_title = lambda self: self.title\n",
    "book1.show_title('Quo vadis')\n",
    "book1.get_title()"
   ]
  },
  {
   "cell_type": "code",
   "execution_count": 52,
   "id": "31d7170c",
   "metadata": {},
   "outputs": [],
   "source": [
    "#Dostep do atrybutów klasy\n",
    "class Phone:\n",
    "    \n",
    "    sector = 'electronics'\n",
    "    os = 'Android'\n",
    "    hight = 1000\n",
    "    width = 500\n",
    "    def __init__(self, os):\n",
    "        self.os = os\n",
    "    \n",
    "    def YourOptions(self):\n",
    "        print(f'Os: {Phone.os}')         #Wartość atrybutu klasy\n",
    "        print(f'Os: {self.os}')          #Wartość atrybutu instancji klasy"
   ]
  },
  {
   "cell_type": "code",
   "execution_count": 53,
   "id": "b3306f41",
   "metadata": {},
   "outputs": [],
   "source": [
    "phone1 = Phone('Mac')\n"
   ]
  },
  {
   "cell_type": "code",
   "execution_count": 54,
   "id": "7dc2d873",
   "metadata": {},
   "outputs": [
    {
     "name": "stdout",
     "output_type": "stream",
     "text": [
      "Os: Android\n",
      "Os: Mac\n"
     ]
    }
   ],
   "source": [
    "phone1.YourOptions()"
   ]
  },
  {
   "cell_type": "code",
   "execution_count": 43,
   "id": "c1f0483a",
   "metadata": {},
   "outputs": [
    {
     "name": "stdout",
     "output_type": "stream",
     "text": [
      "Os: Android\n",
      "Os: Android\n"
     ]
    }
   ],
   "source": [
    "Phone.YourOptions(phone1)"
   ]
  },
  {
   "cell_type": "code",
   "execution_count": 44,
   "id": "eecca360",
   "metadata": {},
   "outputs": [],
   "source": [
    "#Dostęp do atrybutów instancji\n",
    "\n",
    "class Phone:\n",
    "    \n",
    "    def __init__(self, brand):\n",
    "        self.brand = brand\n",
    "        \n",
    "    def print_brand(self):\n",
    "        print(f'Brand: {self.brand}')\n",
    "        \n",
    "    sector = 'electronics'\n",
    "    os = 'Android'\n",
    "    hight = 1000\n",
    "    width = 500\n",
    "    \n",
    "    def YourOptions(self):\n",
    "        print(f'Os: {Phone.os}')\n"
   ]
  },
  {
   "cell_type": "code",
   "execution_count": 45,
   "id": "63ae6f58",
   "metadata": {},
   "outputs": [
    {
     "data": {
      "text/plain": [
       "{'brand': 'Samsung'}"
      ]
     },
     "execution_count": 45,
     "metadata": {},
     "output_type": "execute_result"
    }
   ],
   "source": [
    "phone1 = Phone('Samsung')\n",
    "phone1.__dict__"
   ]
  },
  {
   "cell_type": "code",
   "execution_count": 46,
   "id": "8a5a561b",
   "metadata": {},
   "outputs": [
    {
     "name": "stdout",
     "output_type": "stream",
     "text": [
      "Brand: Samsung\n"
     ]
    }
   ],
   "source": [
    "phone1.print_brand()"
   ]
  },
  {
   "cell_type": "code",
   "execution_count": 56,
   "id": "c5ca22a1",
   "metadata": {},
   "outputs": [
    {
     "data": {
      "text/plain": [
       "mappingproxy({'__module__': '__main__',\n",
       "              'brand': 'Apple',\n",
       "              'result1': ['Apple',\n",
       "               'Apple',\n",
       "               'Apple',\n",
       "               'Apple',\n",
       "               'Apple',\n",
       "               'Apple',\n",
       "               'Apple',\n",
       "               'Apple',\n",
       "               'Apple',\n",
       "               'Apple'],\n",
       "              'ruselt2': ['Samsung',\n",
       "               'Samsung',\n",
       "               'Samsung',\n",
       "               'Samsung',\n",
       "               'Samsung',\n",
       "               'Samsung',\n",
       "               'Samsung',\n",
       "               'Samsung',\n",
       "               'Samsung',\n",
       "               'Samsung'],\n",
       "              '__dict__': <attribute '__dict__' of 'Phone' objects>,\n",
       "              '__weakref__': <attribute '__weakref__' of 'Phone' objects>,\n",
       "              '__doc__': None})"
      ]
     },
     "execution_count": 56,
     "metadata": {},
     "output_type": "execute_result"
    }
   ],
   "source": [
    "#Przeanalizuj przykład\n",
    "\n",
    "brand = 'Samsung'\n",
    "\n",
    "class Phone:\n",
    "    \n",
    "    brand = 'Apple'\n",
    "    result1 = [brand] * 10\n",
    "    ruselt2 = [brand for i in range(10)]                    #List compregension traktowana jest jak funkcja - zauważ do której zmiennej się odwołuje\n",
    "\n",
    "Phone.__dict__"
   ]
  },
  {
   "cell_type": "markdown",
   "id": "ad4044a3",
   "metadata": {},
   "source": [
    "#### 4. Metoda __init__()"
   ]
  },
  {
   "cell_type": "code",
   "execution_count": 8,
   "id": "92de9e9d",
   "metadata": {},
   "outputs": [],
   "source": [
    "#Metdoa init() pozwala inicjalizować obiekty określonej klasy\n",
    "\n",
    "class Phone:\n",
    "    \n",
    "    def __init__(self, brand):\n",
    "        print(f'Inicjalizacja nowego obiektu {self}')\n",
    "        self.brand = brand"
   ]
  },
  {
   "cell_type": "code",
   "execution_count": 9,
   "id": "62fa2680",
   "metadata": {},
   "outputs": [
    {
     "name": "stdout",
     "output_type": "stream",
     "text": [
      "Inicjalizacja nowego obiektu <__main__.Phone object at 0x0000022B082AC4C0>\n"
     ]
    }
   ],
   "source": [
    "phone1 = Phone('Samsung')"
   ]
  },
  {
   "cell_type": "code",
   "execution_count": 12,
   "id": "06d4b44f",
   "metadata": {},
   "outputs": [],
   "source": [
    "class Laptop:\n",
    "    \n",
    "    def __init__(self, brand, model, price):\n",
    "        \n",
    "        self.brand = brand\n",
    "        self.model = model\n",
    "        self.price = price\n",
    "    \n",
    "    def display_attrs(self):\n",
    "        for attr in self.__dict__.keys():\n",
    "            print(attr)\n",
    "            \n"
   ]
  },
  {
   "cell_type": "code",
   "execution_count": 14,
   "id": "a1a6f9fc",
   "metadata": {},
   "outputs": [],
   "source": [
    "laptop1 = Laptop('Samsung', 'SP1989', 6789)"
   ]
  },
  {
   "cell_type": "code",
   "execution_count": 15,
   "id": "cd262d95",
   "metadata": {},
   "outputs": [
    {
     "name": "stdout",
     "output_type": "stream",
     "text": [
      "brand\n",
      "model\n",
      "price\n"
     ]
    }
   ],
   "source": [
    "laptop1.display_attrs()"
   ]
  },
  {
   "cell_type": "code",
   "execution_count": 25,
   "id": "0481eb2c",
   "metadata": {},
   "outputs": [],
   "source": [
    "#Metoda init() *args\n",
    "\n",
    "class List:\n",
    "    \n",
    "    def __init__(self, *args):\n",
    "        self.elements = args"
   ]
  },
  {
   "cell_type": "code",
   "execution_count": 26,
   "id": "19479379",
   "metadata": {},
   "outputs": [],
   "source": [
    "list1 = List('Milk', 'Bread', 'Water')\n",
    "#list2 = List('Tea', 'Coffee', 'Milk')"
   ]
  },
  {
   "cell_type": "code",
   "execution_count": 27,
   "id": "12cd9cb8",
   "metadata": {},
   "outputs": [
    {
     "data": {
      "text/plain": [
       "('Milk', 'Bread', 'Water')"
      ]
     },
     "execution_count": 27,
     "metadata": {},
     "output_type": "execute_result"
    }
   ],
   "source": [
    "list1.elements"
   ]
  },
  {
   "cell_type": "code",
   "execution_count": 28,
   "id": "d7b2f7ef",
   "metadata": {},
   "outputs": [],
   "source": [
    "#Metoda init() *args\n",
    "\n",
    "class List:\n",
    "    \n",
    "    def __init__(self, *elements):\n",
    "        self.elements = elements\n",
    "    "
   ]
  },
  {
   "cell_type": "code",
   "execution_count": 29,
   "id": "701d7763",
   "metadata": {},
   "outputs": [],
   "source": [
    "list2 = List('Tea', 'Coffee', 'Milk')"
   ]
  },
  {
   "cell_type": "code",
   "execution_count": 30,
   "id": "8f204782",
   "metadata": {},
   "outputs": [
    {
     "data": {
      "text/plain": [
       "('Tea', 'Coffee', 'Milk')"
      ]
     },
     "execution_count": 30,
     "metadata": {},
     "output_type": "execute_result"
    }
   ],
   "source": [
    "list2.elements"
   ]
  },
  {
   "cell_type": "code",
   "execution_count": 31,
   "id": "098bbcad",
   "metadata": {},
   "outputs": [],
   "source": [
    "#Metoda init() **kwargs\n",
    "\n",
    "class List:\n",
    "    \n",
    "    def __init__(self, **elements):\n",
    "        self.elements = elements"
   ]
  },
  {
   "cell_type": "code",
   "execution_count": 36,
   "id": "4a66dc30",
   "metadata": {},
   "outputs": [],
   "source": [
    "list3 = List(Milk = 3, Water = 1)"
   ]
  },
  {
   "cell_type": "code",
   "execution_count": 37,
   "id": "ea9ed2a2",
   "metadata": {},
   "outputs": [
    {
     "data": {
      "text/plain": [
       "{'Milk': 3, 'Water': 1}"
      ]
     },
     "execution_count": 37,
     "metadata": {},
     "output_type": "execute_result"
    }
   ],
   "source": [
    "list3.elements"
   ]
  },
  {
   "cell_type": "code",
   "execution_count": 48,
   "id": "a50182e7",
   "metadata": {},
   "outputs": [],
   "source": [
    "class List:\n",
    "    \n",
    "    def __init__(self, **elements):\n",
    "        for attr_key, attr_value in elements.items():\n",
    "            setattr(self, attr_key, attr_value)\n",
    "    def display_list(self):\n",
    "        print(f'List: {len(self.__dict__)}')"
   ]
  },
  {
   "cell_type": "code",
   "execution_count": 49,
   "id": "d9870965",
   "metadata": {},
   "outputs": [],
   "source": [
    "list1 = List(Milk = 3)"
   ]
  },
  {
   "cell_type": "code",
   "execution_count": 51,
   "id": "a75445ff",
   "metadata": {},
   "outputs": [
    {
     "name": "stdout",
     "output_type": "stream",
     "text": [
      "List: 1\n"
     ]
    }
   ],
   "source": [
    "list1.display_list()"
   ]
  },
  {
   "cell_type": "code",
   "execution_count": 61,
   "id": "d381ddc4",
   "metadata": {},
   "outputs": [],
   "source": [
    "#Walidacja\n",
    "\n",
    "class Phone:\n",
    "    \n",
    "    def __init__(self, brand, model, price):\n",
    "        self.brand = brand\n",
    "        self.model = model\n",
    "        \n",
    "        if isinstance(price, (int, float)):\n",
    "            self.price = price\n",
    "        else:\n",
    "            raise TypeError('The price must be of type int or float')"
   ]
  },
  {
   "cell_type": "code",
   "execution_count": 62,
   "id": "76583bdd",
   "metadata": {},
   "outputs": [],
   "source": [
    "phone1 = Phone('Samsung', 'SP1989', 4500)"
   ]
  },
  {
   "cell_type": "code",
   "execution_count": 63,
   "id": "1d986537",
   "metadata": {},
   "outputs": [
    {
     "data": {
      "text/plain": [
       "('Samsung', 'SP1989', 4500)"
      ]
     },
     "execution_count": 63,
     "metadata": {},
     "output_type": "execute_result"
    }
   ],
   "source": [
    "phone1.brand, phone1.model, phone1.price"
   ]
  },
  {
   "cell_type": "code",
   "execution_count": 67,
   "id": "0bb2217e",
   "metadata": {},
   "outputs": [],
   "source": [
    "# phone2 = Phone('Samsung', 'Pop123', '$') Sprawdz wywołanie"
   ]
  },
  {
   "cell_type": "code",
   "execution_count": 68,
   "id": "ef362159",
   "metadata": {},
   "outputs": [],
   "source": [
    "#Wartość domyślna w metodzie init\n",
    "\n",
    "class Phone:\n",
    "    \n",
    "    def __init__(self, element = None):\n",
    "        self.element = element\n"
   ]
  },
  {
   "cell_type": "code",
   "execution_count": 69,
   "id": "9dfb4caa",
   "metadata": {},
   "outputs": [],
   "source": [
    "phone1 = Phone()"
   ]
  },
  {
   "cell_type": "code",
   "execution_count": 73,
   "id": "41c128af",
   "metadata": {},
   "outputs": [],
   "source": [
    "phone1.element"
   ]
  },
  {
   "cell_type": "code",
   "execution_count": null,
   "id": "91c85a3d",
   "metadata": {},
   "outputs": [],
   "source": []
  }
 ],
 "metadata": {
  "kernelspec": {
   "display_name": "Python 3 (ipykernel)",
   "language": "python",
   "name": "python3"
  },
  "language_info": {
   "codemirror_mode": {
    "name": "ipython",
    "version": 3
   },
   "file_extension": ".py",
   "mimetype": "text/x-python",
   "name": "python",
   "nbconvert_exporter": "python",
   "pygments_lexer": "ipython3",
   "version": "3.9.7"
  }
 },
 "nbformat": 4,
 "nbformat_minor": 5
}
