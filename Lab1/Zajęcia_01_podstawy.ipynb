{
 "cells": [
  {
   "cell_type": "markdown",
   "id": "34ae24ad",
   "metadata": {},
   "source": [
    "# Zajęcia_01_podstawy"
   ]
  },
  {
   "cell_type": "markdown",
   "id": "7a99cbc9",
   "metadata": {},
   "source": [
    "## Zagadniania na zajęcia\n",
    "### 1. Apostrofy i cudzysłowy\n",
    "\n",
    "food = 'Mc Donald's'      - przeanalizuj przykłady.\n",
    "\n",
    "food_01 = \"Mc Donald's\"\n",
    "\n",
    "food_02 = 'Mc Donald\\'s'\n",
    "\n",
    "### 2. Znaki specjalne\n",
    "* \"\\n\", \"\\t\", \"\\a\", \"\\u03A3\", \"\\\\\"  \n",
    "* Jeżeli linijka kodu jest zbyt długa i chceszą ją podzielić - użyj znaku \\ na końcu liniki kodu.\n",
    "\n",
    "### 3. Funkcje\n",
    "* funkcja print(\" \", sep=\" \")\n",
    "* funkcja round(n,2) -> do dwóch miejsc po przecinku zaokrąglamy wyniki\n",
    "\n",
    "### 4. Instrukcje\n",
    "\n",
    "* range(n) np. range(1,10,step=0.5)  # Generuje zbiór liczb w zadanym zakresie.\n",
    "* break\n",
    "* continue\n",
    "\n",
    "\n",
    "### 5. Typy zmiennych\n",
    "\n",
    "### 5.1. Typ string (str)\n",
    "\n"
   ]
  },
  {
   "cell_type": "code",
   "execution_count": null,
   "id": "6800c328",
   "metadata": {},
   "outputs": [],
   "source": []
  },
  {
   "cell_type": "code",
   "execution_count": 121,
   "id": "e48b2901",
   "metadata": {},
   "outputs": [],
   "source": [
    "text = \"This is your Python.\"\n",
    "#text.endswith(\"Python.\")    #Sprawdzamy czy zmianna text kończy się na \"Python\"\n",
    "#text.endswith(\"Python\") \n",
    "#text.islower()              #Sprawdzamy czy zmienna text składa się jedynie z małych liter.\n",
    "#text.isupper()              #Sprawdzamy czy zmienna text składa się jedynie z wielkich liter.\n",
    "#text.upper()                #Zmieniamy wszystkie litery w zmiennej text na wielkie.\n",
    "#text.upper().isupper()      #Zmieniamy wszystkie litery w zmiennej text na wielkie, a następnie sprawdzamy czy wszytskie litery w zmiennej zostały zmienione na wielkie.\n",
    "#text.find(\"thon\")           #Sprawdzamy czy w zmiannej text występuje string \"thon\". Jeżeli zostanie odnaleziony, zwróci numer znaku na którym wskazany teks się pojawił (!Pamiętaj! w Pythonie numerujemy od 0)\n",
    "#text.find(\"Ola\")\n",
    "#text.replace(\"Python\", \"Java\")   #Pozwala na zamianę jednego ciągu znaków na inny ciąg znaków. !Pamięta! Możliwa jest jedynie zamiana ciągu znaków na inny ciąg znaków.\n",
    "#text.replace(\"Python\", 4)        #Przetestuj \n",
    "#text.replace(\"Python\", \"Java\").replace(\"your\", \"my\")\n",
    "#text.split(\" \")              #Dzieli ciąg znaków ze względu na podnapis, który się w tym tekście znajduje. !Zwróć uwagę na output  - tabela\n",
    "#type(text)                   #Sprawdza typ zmiennej\n",
    "text_02 = \"1000\"\n",
    "#text_02 + 1                  #Zastanów się nad wynikiem. !Zgodność typów\n",
    "#text_02 + \"1\"                #Zastanów się nad wynikiem. !Zgodność typów\n",
    "#text.isdigit()               #Sprawdza czy ciąg znaków wygląda jak liczba    !Zastanów się gdzie możne znaleźć zastosowanie?\n",
    "#text_02.isdigit()            #Sprawdza czy ciąg znaków wygląda jak liczba    !Zastanów się gdzie możne znaleźć zastosowanie?\n",
    "#text.isdecimal()             #Sprawdza czy ciąg znaków wygląda jak liczba zmiannoprzecinkowa    !Zastanów się gdzie możne znaleźć zastosowanie?\n",
    "#text_02.isdecimal()          #Sprawdza czy ciąg znaków wygląda jak liczba zmiennoprzecinkowa  !Zastanów się gdzie możne znaleźć zastosowanie?\n",
    "#text.isalpha()               #Sprawdza czy ciąg znaków to same litery.\n",
    "#text_02.isalpha()            #Sprawdza czy ciąg znaków to same litery.\n",
    "text_03 = 'asd'\n",
    "#text_03.isalpha()            #Sprawdza czy ciąg znaków to same litery.\n",
    "#text.isalnum()\n",
    "#text_02.isalnum()\n",
    "#text_03.isalnum()\n",
    "text_04 = \"This is your Python.\"   \n",
    "#text_04.isalnum()             #Zastanów się nad outputem.\n",
    "#text_05 = \"This \\nis \\nsomethong \\nnew\"    #Sprawdz output, znak specjalny.\n",
    "#print(text_05)\n",
    "#text_05 = r\"This \\nis \\nsomethong \\nnew\"   #Sprawdz output, literał r  (\"raw\") - surowy tekst.\n",
    "#print(text_05)                             # Wproadzenie literału r sprawia, że nie dochodzi do interpretacji znaków specjalnych, występujących w ciągu znaków.\n",
    "text_02 = \"1000\"\n",
    "#int(text_02)     #Konwertowanie na int - zmiana typu zmiannej na typ int\n",
    "#type(text_02)"
   ]
  },
  {
   "cell_type": "markdown",
   "id": "36b89385",
   "metadata": {},
   "source": [
    "Konkatynacja napisów  - dodawanie napisów."
   ]
  },
  {
   "cell_type": "code",
   "execution_count": 57,
   "id": "9894ef50",
   "metadata": {},
   "outputs": [],
   "source": [
    "#drive = \"C:\\\"    #Zastanów się nad outputem. Jak to naprawić?\n",
    "drive = \"C:\\\\\"\n",
    "folder = \"scripts\\\\Python\\\\\"\n",
    "file = \"my_first_class.py\"\n",
    "path = drive + folder + file\n",
    "#print(path)"
   ]
  },
  {
   "cell_type": "markdown",
   "id": "62c0082f",
   "metadata": {},
   "source": [
    "### Działania na łańcuchach znaków - parsowanie tekstu\n"
   ]
  },
  {
   "cell_type": "code",
   "execution_count": 131,
   "id": "4c8d80ab",
   "metadata": {},
   "outputs": [],
   "source": [
    "text_message = \"This is my favourite programming language - Python\"\n",
    "#print(text_message[0])\n",
    "#print(text_message[0:15])\n",
    "#print(text_message[5:])\n",
    "#print(text_message[-7:])\n",
    "#print(text_message[:])"
   ]
  },
  {
   "cell_type": "markdown",
   "id": "2e04ae0d",
   "metadata": {},
   "source": [
    "### Formatowanie napisów  - przydatne szczególnie, kiedy mamy do wyświetlenia stały komunikat."
   ]
  },
  {
   "cell_type": "code",
   "execution_count": 120,
   "id": "955372fe",
   "metadata": {},
   "outputs": [],
   "source": [
    "#first_message = \"Processing file %s\"           #literał %s  - ciąg znaków\n",
    "#print(first_message % (\"file_1.txt\"))\n",
    "#second_message = \"File %s has size %d KB\"      #literał d  - liczba\n",
    "#print(second_message % (\"file_1.txt\", 100))    #Proszę przeanalizować ten przykład dla A. Zamiany kolejności danych oraz B. Zapisania zamiast 100 -> \"100\". Przeanalizuj wyniki.\n",
    "#third_message = \"File %15s has size %10d KB\"   #Wartości wprowadzone pomiędzy %, a s lub d - informuje ile znaków ma być zarezerwowane na napis i na wartość liczbową.\n",
    "#print(third_message % (\"file_1.txt\", 100))     #Notacja przydatna szczególnie podczas pracy z plikami. Gdy chce umieścić nazwy mniej więcej w jednym słupku.\n",
    "\n",
    "#first_message =\"Processing file {0:s}\"         #Ta notacja informuje nas, że mamy wstawić dokładnie jeden parametr i ma on typ str.\n",
    "#first_message.format(\"file_1.txt\")\n",
    "#second_message = \"File {0:s} has size {1:d} KB)\" #Dwa parametry - przeanalizuj bazując na poprzednich przykładach.\n",
    "#second_message.format(\"file_1.txt\", 100)\n",
    "#second_message = \"File {1:s} has size {0:d} KB)\" #Dwa parametry - przeanalizuj bazując na poprzednich przykładach.\n",
    "#second_message.format(100, \"file_1.txt\")\n",
    "#third_message = \"File {0:15s} has size {1:10d}\"   #Analogicznie jak w poprzednim przypadku, umieszczenie wartości liczbowej przez s lub d powoduje zarezerwowanie okreslonej ilości znaków.\n",
    "#third_message.format(\"file_1.txt\", 100)"
   ]
  },
  {
   "cell_type": "markdown",
   "id": "b494ec79",
   "metadata": {},
   "source": [
    "### 5.2. Typy numeryczne: int & float"
   ]
  },
  {
   "cell_type": "code",
   "execution_count": 119,
   "id": "6c3e1fc0",
   "metadata": {},
   "outputs": [
    {
     "data": {
      "text/plain": [
       "float"
      ]
     },
     "execution_count": 119,
     "metadata": {},
     "output_type": "execute_result"
    }
   ],
   "source": [
    "first_number = 1               #Typ int opisuje liczby całkowite (ujemne oraz dodatnie)\n",
    "#type(first_number)\n",
    "second_number = 5.5            #Typ float opisuje liczby zmiennoprzecinkowe \n",
    "#type(second_number)\n",
    "#type(first_number * second_number)\n",
    "#type(first_number / 2)         #Przeanalizuj wynik koncentrując się na operatorze dzielenia.\n",
    "#type(first_number // 2)        #Przeanalizuj wynik koncentrując się na operatorze dzielania. - tzw. dzielenie całkowite\n",
    "#first_number / 2               #Przeanalizuj wynik dzielnia\n",
    "#first_number // 2              #Przeanalizuj wynik dzielnia - zwróć uwagę na zaokrąglenie - dla jakich przypadku może my stosować oba typy dzielenia?\n",
    "#type(first_number * second_number)  #Przeanalizuj jaki typ otrzymano w wyniku przeprowadzenia tego działania\n",
    "#5 % 3                          #Modulo - zwraca resztę z dzielenia 5 przez 3\n",
    "#float('inf')                   #Zastanów się czy takie rzutpwanie ma sens?    \n",
    "#float('inf') > 999999999999999999999999999999999999999999999999999999     #Sprawdź wynik porównania.\n",
    "#- float('inf')     #Operacja - nieskończonosć (infinity)\n",
    "\n"
   ]
  },
  {
   "cell_type": "markdown",
   "id": "ad88a0fe",
   "metadata": {},
   "source": [
    "### 5.3. Operatory logiczne"
   ]
  },
  {
   "cell_type": "markdown",
   "id": "52fb5822",
   "metadata": {},
   "source": [
    "Operatory porównania\n",
    "\n",
    "== równe\n",
    "\n",
    "< lub >\n",
    "\n",
    "<=   lub >=\n",
    "\n",
    "!=  różne\n"
   ]
  },
  {
   "cell_type": "markdown",
   "id": "83d969a2",
   "metadata": {},
   "source": [
    "Task 1. When student feels happy?\n",
    "\n",
    "weekend = True        #Zwróć uwagę jak napisane jest True. Zmienna logiczna (Python jest wrażliwy na wielkość znaków)\n",
    "\n",
    "holiday = True\n",
    "\n",
    "temperature = 25\n",
    "\n",
    "duties = \"\"\n",
    "\n",
    "1.1. Operator and\n",
    "\n"
   ]
  },
  {
   "cell_type": "code",
   "execution_count": 107,
   "id": "9043cc0b",
   "metadata": {},
   "outputs": [],
   "source": [
    "holiday = True\n",
    "weekend = True\n",
    "#temperature = 25       #Przeanalizuj działanie operatorów porównania dla różnych przykładów A. Holiday and temperature 25 i duties =\"\"\n",
    "temperature = 5         #B. Weekend and temperature = 5 i duties=\"\"    C. Przyjmijmy, że student jest szczęśliwy jeżeli nie ma weekendu, temperatura jest niższa niż 25 stopni i ma coś do roboty.\n",
    "duties = \"\"\n",
    "#type(weekend)"
   ]
  },
  {
   "cell_type": "code",
   "execution_count": 116,
   "id": "39ad2e94",
   "metadata": {},
   "outputs": [],
   "source": [
    "#if holiday and temperature >= 25 and duties == \"\":\n",
    "    #print(\"Student feels happy.\")\n",
    "#else:\n",
    "    #print(\"Student doesn't feel happy.\")"
   ]
  },
  {
   "cell_type": "code",
   "execution_count": 117,
   "id": "cc41bc15",
   "metadata": {},
   "outputs": [],
   "source": [
    "#if  weekend and temperature < 25 and duties != \"Learning\":\n",
    "    #print(\"Student feels happy.\")\n",
    "#else:\n",
    "    #print(\"Student doesn't feel happy.\")"
   ]
  },
  {
   "cell_type": "code",
   "execution_count": 118,
   "id": "b860d2e4",
   "metadata": {},
   "outputs": [],
   "source": [
    "weekend = False\n",
    "temperature = 8\n",
    "duties = \"Learning\"\n",
    "#if  not weekend and temperature < 25 and duties == \"Learning\":\n",
    "    #print(\"Student feels happy.\")\n",
    "#else:\n",
    "    #print(\"Student doesn't feel happy.\")"
   ]
  },
  {
   "cell_type": "markdown",
   "id": "7a18a06c",
   "metadata": {},
   "source": [
    "1.2. Operator lub"
   ]
  },
  {
   "cell_type": "markdown",
   "id": "abac7f23",
   "metadata": {},
   "source": [
    "### 6. Listy"
   ]
  },
  {
   "cell_type": "markdown",
   "id": "6dbd647f",
   "metadata": {},
   "source": [
    "Zbiór elementów zapisany pod jedną nazwą zmiennej. Lista zachowuje kolejność elementów !"
   ]
  },
  {
   "cell_type": "code",
   "execution_count": 1,
   "id": "0b797354",
   "metadata": {},
   "outputs": [],
   "source": [
    "countries = ['PL', 'DE', 'BE', 'FR', 'US']"
   ]
  },
  {
   "cell_type": "code",
   "execution_count": 21,
   "id": "cddd8f03",
   "metadata": {},
   "outputs": [
    {
     "name": "stdout",
     "output_type": "stream",
     "text": [
      "['ES', 'US', 'GB', 'GB', 'ES', 'ES', 'ES', 'ES', 'ES', 'ES', 'ES', 'ES', 'ES', 'BE', 'SE', 'FI', 'GB']\n",
      "['BE', 'ES', 'ES', 'ES', 'ES', 'ES', 'ES', 'ES', 'ES', 'ES', 'ES', 'FI', 'GB', 'GB', 'GB', 'SE', 'US']\n",
      "['US', 'SE', 'GB', 'GB', 'GB', 'FI', 'ES', 'ES', 'ES', 'ES', 'ES', 'ES', 'ES', 'ES', 'ES', 'ES', 'BE']\n",
      "['US', 'SE', 'GB', 'GB', 'FI', 'ES', 'ES', 'ES', 'ES', 'ES', 'ES', 'ES', 'ES', 'ES', 'ES', 'BE']\n",
      "0\n",
      "2\n",
      "['US', 'SE', 'GB', 'GB', 'FI', 'ES', 'ES', 'ES', 'ES', 'ES', 'ES', 'ES', 'ES', 'ES', 'ES', 'BE', 'SE', 'FI']\n"
     ]
    }
   ],
   "source": [
    "# Indeksowanie elementów\n",
    "#print(countries[:])\n",
    "#print(countries[1:3])\n",
    "#Nadpisywanie listy\n",
    "countries[1] = \"IT\"\n",
    "#print(countries)\n",
    "#Dodawanie elementów do listy\n",
    "countries.append('GB')    #Umożliwia dodatnie elemnetu do listy\n",
    "#print(countries)\n",
    "\n",
    "countries.insert(0,'ES')      #Na pierwszym miejscu podajemy pozycję na liście, na drugim nazwę.\n",
    "#print(countries)\n",
    "\n",
    "countries.remove('IT')\n",
    "print(countries)\n",
    "\n",
    "countries.sort()             #Sortowanie elemnetów listy\n",
    "print(countries)\n",
    "\n",
    "countries.reverse()          #Odwracanie kolejności elemnetów listy\n",
    "print(countries)\n",
    "\n",
    "countries.pop(4)             #Zdefiniowany element na liscie zostaje pobrany, a następnie usunięty. Szczególnie przydatne podczas implementacji opartej na zasadzie działania kolejki\n",
    "print(countries)\n",
    "\n",
    "countries.index('ES')        #Sprawdza czy zdefiniowany element znajduje się na liście, a jeżlei tak zwraca jego pozycję.\n",
    "#countries.index('ESG')      #Przeanalizuj\n",
    "\n",
    "print(countries.count('IT'))\n",
    "print(countries.count('GB'))  #Pozwala zliczyć ile dany elemnet razy pojawił się na liście\n",
    "\n",
    "#Łączenie dwóch odrębnych list\n",
    "newList = ['SE', 'FI']\n",
    "\n",
    "countries.extend(newList)     #przy czym elementy listy są dopisywane na końcu pierwszej listy.\n",
    "print(countries)\n",
    "\n",
    "countries.clear()            #Czyści listę."
   ]
  },
  {
   "cell_type": "code",
   "execution_count": 24,
   "id": "80a2aa78",
   "metadata": {},
   "outputs": [
    {
     "name": "stdout",
     "output_type": "stream",
     "text": [
      "['PL', 'DE', 'BE', 'FR', 'US']\n",
      "['PL', 'DE', 'BE', 'FR', 'US']\n",
      "[]\n",
      "[]\n"
     ]
    }
   ],
   "source": [
    "countries = ['PL', 'DE', 'BE', 'FR', 'US']\n",
    "\n",
    "countriesCopy = countries        #Przeanalizuj poniższe przykłady\n",
    "\n",
    "print(countries)\n",
    "print(countriesCopy)\n",
    "countries.clear()\n",
    "\n",
    "print(countries)\n",
    "print(countriesCopy)"
   ]
  },
  {
   "cell_type": "code",
   "execution_count": 25,
   "id": "592935f9",
   "metadata": {},
   "outputs": [
    {
     "name": "stdout",
     "output_type": "stream",
     "text": [
      "['PL', 'DE', 'BE', 'FR', 'US']\n",
      "['PL', 'DE', 'BE', 'FR', 'US']\n",
      "[]\n",
      "['PL', 'DE', 'BE', 'FR', 'US']\n"
     ]
    }
   ],
   "source": [
    "countries = ['PL', 'DE', 'BE', 'FR', 'US']\n",
    "\n",
    "countriesCopy = countries.copy()        #Przeanalizuj poniższe przykłady\n",
    "                                        #Metoda copy() powoduje, że powstaje zupełnie nowa kopia listy, zupełnie nowe miejsce w pamięci dla zdefiniowanej zmiennej.\n",
    "print(countries)\n",
    "print(countriesCopy)\n",
    "countries.clear()\n",
    "\n",
    "print(countries)\n",
    "print(countriesCopy)"
   ]
  },
  {
   "cell_type": "markdown",
   "id": "1474a46d",
   "metadata": {},
   "source": [
    "### 7 Tuple (krotki)"
   ]
  },
  {
   "cell_type": "code",
   "execution_count": 29,
   "id": "6d34876e",
   "metadata": {},
   "outputs": [
    {
     "name": "stdout",
     "output_type": "stream",
     "text": [
      "['PL', 'DE', 'BE', 'FR', 'US']\n",
      "(23, 15, 14, 17, 34)\n"
     ]
    }
   ],
   "source": [
    "#Przed rozpoczęciem ćwiczeń, zastanów się nad różnicą pomiędzy tuble (krotka), a listą\n",
    "\n",
    "countries = ['PL', 'DE', 'BE', 'FR', 'US']\n",
    "taxes = (23, 15, 14, 17, 34)\n",
    "print(countries)\n",
    "print(taxes)"
   ]
  },
  {
   "cell_type": "code",
   "execution_count": 43,
   "id": "9e31385c",
   "metadata": {},
   "outputs": [
    {
     "name": "stdout",
     "output_type": "stream",
     "text": [
      "15\n",
      "2\n",
      "34\n",
      "[23, 15, 14, 17, 34]\n",
      "(23, 15, 14, 17, 34)\n",
      "14\n",
      "4\n",
      "4\n",
      "4\n",
      "2\n",
      "4\n",
      "2\n"
     ]
    }
   ],
   "source": [
    "taxes = (23, 15, 14, 17, 34)\n",
    "#Indeksoweanie elementów tupli\n",
    "print(taxes[1]) \n",
    "print(taxes.index(14))     #Analogicznie jak dla list. Definiujemy elemnet, zwraca index w tupli.\n",
    "#taxes.index('14')         #Zauważ!\n",
    "print(max(taxes))          #Zwraca największą wartość w tupli\n",
    "taxes.count(14)            #Analogicznie jak w listach, zlicza wystąpienia dlanego elemntu w tupli\n",
    "\n",
    "#sprawdź możliwość zastowania pozostałych metod .insert(), .append(), reverse(), .sort() - wpływających na zawartość zmiennej tuple\n",
    "\n",
    "#Konwersja tuple na liste\n",
    "listTuple = list(taxes)\n",
    "print(listTuple)\n",
    "\n",
    "newTuple= tuple(listTuple)\n",
    "print(newTuple)\n",
    "\n",
    "#Przypisanie wartości w locie\n",
    "taxes = (23, 15, 14, 17, 34)\n",
    "(tax1, tax2, tax3, tax4, tax5) = taxes   #Sprawdz co stanie się w przypadku zdefiniowania wartości od tax1 do tax3?\n",
    "print(tax3)\n",
    "\n",
    "\n",
    "#Przykładowe zadanie - przeanalizuj czynności i wyniki\n",
    "a = 2\n",
    "b = 4\n",
    "#Zamień wartości w zmiennych\n",
    "a = b \n",
    "b = a\n",
    "print(a)\n",
    "print(b)    #Utraciliśmy wartość początkową a\n",
    "\n",
    "#Jak to zadanie zrealizować prawidłowo? - zastosujemy zmienną tymczasową.\n",
    "a = 2\n",
    "b = 4\n",
    "temp= a  #zmienna tymczasowa\n",
    "a = b\n",
    "b = temp\n",
    "print(a)\n",
    "print(b)\n",
    "\n",
    "#Jak zrealizować to szybciej? - zastosować tuple   #Konwersja obiektów\n",
    "a = 2\n",
    "b = 4\n",
    "(a,b) = (b,a)\n",
    "print(a)\n",
    "print(b)\n",
    "\n"
   ]
  },
  {
   "cell_type": "markdown",
   "id": "6728d8f3",
   "metadata": {},
   "source": [
    "### 8 Dictionary"
   ]
  },
  {
   "cell_type": "code",
   "execution_count": 50,
   "id": "a57d9f84",
   "metadata": {},
   "outputs": [
    {
     "name": "stdout",
     "output_type": "stream",
     "text": [
      "{'Bartek': 178, 'Kasia': 165, 'Ola': 172, 'Kamil': 190}\n",
      "178\n",
      "{'Bartek': 178, 'Kasia': 165, 'Ola': 172, 'Kamil': 190, 'Barbara': 167}\n",
      "dict_keys(['Bartek', 'Kasia', 'Ola', 'Kamil', 'Barbara'])\n",
      "dict_values([178, 165, 172, 190, 167])\n",
      "dict_items([('Bartek', 178), ('Kasia', 165), ('Ola', 172), ('Kamil', 190), ('Barbara', 167)])\n"
     ]
    }
   ],
   "source": [
    "height_of_people = {'Bartek': 178, 'Kasia': 165, 'Ola': 172, 'Kamil': 190 }\n",
    "print(height_of_people)   #przeanalizuj strukturę, z ilu elementów skłąda się słownik?\n",
    "                          #Struktura zbudowana jest z klucza(lewa strona od dwukropka oraz wartości (prawa strona od dwukropka)\n",
    "#Aby odwołać się do klucza\n",
    "print(height_of_people['Bartek'])\n",
    "\n",
    "#Dodanie nowych elemnetów do słownika\n",
    "height_of_people['Barbara'] = 167\n",
    "print(height_of_people)\n",
    "  \n",
    "print(height_of_people.keys())               #Zaobserwuj zwrócone wartości\n",
    "print(height_of_people.values())\n",
    "print(height_of_people.items())"
   ]
  },
  {
   "cell_type": "code",
   "execution_count": 2,
   "id": "580c58e6",
   "metadata": {},
   "outputs": [
    {
     "name": "stdout",
     "output_type": "stream",
     "text": [
      "{'Bartek': 182, 'Kasia': 165, 'Ola': 172, 'Kamil': 192}\n"
     ]
    }
   ],
   "source": [
    "#height_of_people = {'Bartek': 178, 'Kasia': 165, 'Ola': 172, 'Kamil': 190 }\n",
    "#print(height_of_people.popitem())\n",
    "#print(height_of_people)                         #Metoda .popitem() pobiera ostatni element słownika, a następnie go usuwa ze słownika\n",
    "\n",
    "#height_of_people.setdefault('Barbara', 174)     #Specyficzna dla słowników metoda .setdefault(key, value)\n",
    "                                                #1. Podając klucz możesz wyświetlić wartość. 2. Jeżeli podasz klucz, który w aktualnym słowniku nie został zdefiniowany, zostanie ten klucz i wartość dodane do słownika.\n",
    "#print(height_of_people)\n",
    "#height_of_people.setdefault('Ola')              \n",
    "#height_of_people.get('Bartek')  \n",
    "#print(height_of_people.get('Olaf'))             #Zaobserwuj zwrócony wynik. W tym przypadku klucz spoza aktualnego słownika nie zostanie dodany do słownika.\n",
    "\n",
    "height_of_people = {'Bartek': 178, 'Kasia': 165, 'Ola': 172, 'Kamil': 190 }\n",
    "new_height_of_people = {'Bartek': 182, 'Kamil': 192}\n",
    "height_of_people.update(new_height_of_people)      #metoda .update() umożliwia zaktualizowanie słownika, jeżeli zostaną podane wartości wczesniej nie zdefiniowane - zostaną dodane do słownika.\n",
    "print(height_of_people) \n"
   ]
  },
  {
   "cell_type": "markdown",
   "id": "e735e3c9",
   "metadata": {},
   "source": [
    "### 9. Sterowanie programem"
   ]
  },
  {
   "cell_type": "markdown",
   "id": "8b4a4f73",
   "metadata": {},
   "source": [
    "### 9.1. Instrukcja warunkowa if"
   ]
  },
  {
   "cell_type": "markdown",
   "id": "de67b6a2",
   "metadata": {},
   "source": [
    "\"Nested if\" - zagnieżdżona pętla if\n",
    "\n",
    "Przykłd. 1.\n",
    "\n",
    "Jeżeli jest weekend i klient zrobił zakupy za minimum 1000 PLN w sklepie objętym promocją dostaje rabat, w przeciwnym wypadku wypisz stosowne komunikaty.\n",
    "\n",
    "isWeekend = True\n",
    "cost = 1000\n",
    "specialArea = True\n"
   ]
  },
  {
   "cell_type": "code",
   "execution_count": 7,
   "id": "dcfd4b34",
   "metadata": {},
   "outputs": [
    {
     "name": "stdout",
     "output_type": "stream",
     "text": [
      "Sorry, the cost is too low.\n"
     ]
    }
   ],
   "source": [
    "isWeekend = True           #Nie jest to dobra praktyka !  Taka forma utrudnia w przyszłości modyfikację oraz ogólnego porządku.\n",
    "cost = 190\n",
    "specialArea = True\n",
    "\n",
    "\n",
    "if cost < 1000:\n",
    "    print(\"Sorry, the cost is too low.\")\n",
    "else:\n",
    "    if not isWeekend:\n",
    "        print(\"We invite you to shopping at weekend\")\n",
    "    else:\n",
    "        if not specialArea:\n",
    "            print(\"It is not a special area.\")\n",
    "        else:\n",
    "            print(\"You got a rabat.\")\n",
    "            "
   ]
  },
  {
   "cell_type": "code",
   "execution_count": 3,
   "id": "e8c962bf",
   "metadata": {},
   "outputs": [
    {
     "name": "stdout",
     "output_type": "stream",
     "text": [
      "You got a rabat.\n"
     ]
    }
   ],
   "source": [
    "isWeekend = True             #Poprawna notacja\n",
    "cost = 1900\n",
    "specialArea = True\n",
    "\n",
    "\n",
    "if cost < 1000:                           #jeśli?\n",
    "    print(\"Sorry, the cost is too low.\")\n",
    "elif not isWeekend:                       # i jeśli?\n",
    "    print(\"We invite you to shopping at weekend\")\n",
    "elif not specialArea:                     # i jeśli?\n",
    "    print(\"It is not a special area.\")\n",
    "else:                                     # w przeciwnym razie....\n",
    "    print(\"You got a rabat.\")"
   ]
  },
  {
   "cell_type": "code",
   "execution_count": 11,
   "id": "9e8f9c10",
   "metadata": {},
   "outputs": [
    {
     "name": "stdout",
     "output_type": "stream",
     "text": [
      "I have to learn.\n",
      "I have to learn.\n"
     ]
    }
   ],
   "source": [
    "#Uproszczenie składni  - TERNARY OPERATOR\n",
    "\n",
    "isExam = True\n",
    "\n",
    "\n",
    "if isExam:\n",
    "    print(\"I have to learn.\")\n",
    "else:\n",
    "    print(\"I go out or meet with my friends.\")\n",
    "    \n",
    "    \n",
    "#### \n",
    "\n",
    "print(\"I have to learn.\") if isExam else \"I go out or meet with my friends.\""
   ]
  },
  {
   "cell_type": "markdown",
   "id": "d14fc2d0",
   "metadata": {},
   "source": [
    "###  10. Pętle w Pythonie\n",
    "### 10.1. Petla while\n",
    "\n",
    "* Inkrementacja i+=1 lub i-=1 (przykład)  \n",
    "\n"
   ]
  },
  {
   "cell_type": "code",
   "execution_count": null,
   "id": "eca64365",
   "metadata": {},
   "outputs": [],
   "source": [
    "i = 0\n",
    "\n",
    "while i <= 10:\n",
    "    print(\"This is the\", i, \"step.\")\n",
    "    i+= 1\n",
    "else:\n",
    "    print(\"This is the end.\")"
   ]
  },
  {
   "cell_type": "code",
   "execution_count": null,
   "id": "c79fc7c0",
   "metadata": {},
   "outputs": [],
   "source": [
    "#Przykładowe zadanie do przeanalizowania\n",
    "\n",
    "values = [ 12, 76, 1, 67, 98, 23, 54, 89, 9, 12, 56, 76, 100]     #Szukamy czterech kolejnych liczb ustawionych na liście w kolejności rosnącej\n",
    "i = 0\n",
    "\n",
    "max = len(values) - 3\n",
    "\n",
    "while i < max:\n",
    "    if values[i] < values[i+1] and values[i+1] < values[i+2] and values[i+2] < values[i+3]:\n",
    "        print('t\\Found: ', values[i], values[i+1], values[i+2], values[i+3])\n",
    "    i+=1\n",
    "\n"
   ]
  },
  {
   "cell_type": "markdown",
   "id": "9f6fe41d",
   "metadata": {},
   "source": [
    "### 10.2. Pętla for  i zagnieżdżona for"
   ]
  },
  {
   "cell_type": "code",
   "execution_count": 4,
   "id": "e898ae8f",
   "metadata": {},
   "outputs": [
    {
     "name": "stdout",
     "output_type": "stream",
     "text": [
      "Email for\t Bartłomiej                \tis\t Bartłomiej@pwr\n",
      "Email for\t Adam                      \tis\t Adam@pwr\n",
      "Email for\t Kasia                     \tis\t Kasia@pwr\n",
      "Email for\t Basia                     \tis\t Basia@pwr\n",
      "Email for\t Stasia                    \tis\t Stasia@pwr\n"
     ]
    }
   ],
   "source": [
    "students = ['Bartłomiej', 'Adam', 'Kasia', 'Basia', 'Stasia']\n",
    "domain = 'pwr'\n",
    "\n",
    "for student in students:\n",
    "    email = student + '@'+ domain\n",
    "    print('Email for\\t {0:25s} \\tis\\t {1:3s}'.format(student, email))   #Proszę pamiętać o formie zwracanego wyniku - formatowanie"
   ]
  },
  {
   "cell_type": "code",
   "execution_count": 1,
   "id": "a2b18c2d",
   "metadata": {},
   "outputs": [
    {
     "name": "stdout",
     "output_type": "stream",
     "text": [
      "1\t1\t2\t3\t4\t5\t6\t7\t8\t9\n",
      "2\t2\t4\t6\t8\t10\t12\t14\t16\t18\n",
      "3\t3\t6\t9\t12\t15\t18\t21\t24\t27\n",
      "4\t4\t8\t12\t16\t20\t24\t28\t32\t36\n",
      "5\t5\t10\t15\t20\t25\t30\t35\t40\t45\n",
      "6\t6\t12\t18\t24\t30\t36\t42\t48\t54\n",
      "7\t7\t14\t21\t28\t35\t42\t49\t56\t63\n",
      "8\t8\t16\t24\t32\t40\t48\t56\t64\t72\n",
      "9\t9\t18\t27\t36\t45\t54\t63\t72\t81\n"
     ]
    }
   ],
   "source": [
    "#Tabliczka mnożenia\n",
    "\n",
    "for a in range(1,10):\n",
    "    line = str(a)\n",
    "    for b in range(1,10):\n",
    "        line+= '\\t' +str(a*b)\n",
    "    print(line)                                #Zwróć uwagę na zwracaną wartość -wyrównanie do lewej - nie jest to do końca poprawne. Drobra modyfikacja to naprawi."
   ]
  },
  {
   "cell_type": "code",
   "execution_count": 8,
   "id": "e67bad3b",
   "metadata": {},
   "outputs": [
    {
     "name": "stdout",
     "output_type": "stream",
     "text": [
      "1\t  1\t  2\t  3\t  4\t  5\t  6\t  7\t  8\t  9\n",
      "2\t  2\t  4\t  6\t  8\t 10\t 12\t 14\t 16\t 18\n",
      "3\t  3\t  6\t  9\t 12\t 15\t 18\t 21\t 24\t 27\n",
      "4\t  4\t  8\t 12\t 16\t 20\t 24\t 28\t 32\t 36\n",
      "5\t  5\t 10\t 15\t 20\t 25\t 30\t 35\t 40\t 45\n",
      "6\t  6\t 12\t 18\t 24\t 30\t 36\t 42\t 48\t 54\n",
      "7\t  7\t 14\t 21\t 28\t 35\t 42\t 49\t 56\t 63\n",
      "8\t  8\t 16\t 24\t 32\t 40\t 48\t 56\t 64\t 72\n",
      "9\t  9\t 18\t 27\t 36\t 45\t 54\t 63\t 72\t 81\n"
     ]
    }
   ],
   "source": [
    "#Tabliczka mnożenia\n",
    "\n",
    "for a in range(1,10):\n",
    "    line = str(a)\n",
    "    for b in range(1,10):\n",
    "        line+= ('\\t%3d' % (a*b))   #Formatowanie\n",
    "    print(line)"
   ]
  },
  {
   "cell_type": "markdown",
   "id": "adf3876e",
   "metadata": {},
   "source": [
    "### 10.3. Istrukcje break & continue"
   ]
  },
  {
   "cell_type": "code",
   "execution_count": 26,
   "id": "097679f7",
   "metadata": {},
   "outputs": [
    {
     "name": "stdout",
     "output_type": "stream",
     "text": [
      "['    Kamila@pwr', 'Barbara@pwr.pl@pwr', '    Damian@pwr', 'Bartosz@pwr.pl@pwr']\n",
      "----------------------------------------------------------------------------------------------------\n",
      "['    Kamila@pwr', 'Barbara@pwr.pl@pwr', '    Damian@pwr', 'Bartosz@pwr.pl@pwr']\n"
     ]
    }
   ],
   "source": [
    "persons = ['Kamila','Barbara@pwr.pl', 'Damian','Bartosz@pwr.pl']\n",
    "domain = 'pwr'\n",
    "emails=[]\n",
    "\n",
    "for person in persons:\n",
    "    if '@' in persons:\n",
    "        emails.append(person)\n",
    "\n",
    "    else:\n",
    "        email = '%10s@%3s' % (person,domain)\n",
    "        emails.append(email)\n",
    "print(emails)\n",
    "\n",
    "print('-'*100)\n",
    "\n",
    "persons = ['Kamila','Barbara@pwr.pl', 'Damian','Bartosz@pwr.pl']\n",
    "domain = 'pwr'\n",
    "emails=[]\n",
    "\n",
    "for person in persons:\n",
    "    if '@' in persons:\n",
    "        emails.append(person)\n",
    "        continue                   #Output identyczny, a nie stosowalismy instrukcji else\n",
    "    email = '%10s@%3s' % (person,domain)\n",
    "    emails.append(email)\n",
    "print(emails)\n",
    "\n"
   ]
  },
  {
   "cell_type": "code",
   "execution_count": null,
   "id": "297ec466",
   "metadata": {},
   "outputs": [],
   "source": []
  }
 ],
 "metadata": {
  "kernelspec": {
   "display_name": "Python 3 (ipykernel)",
   "language": "python",
   "name": "python3"
  },
  "language_info": {
   "codemirror_mode": {
    "name": "ipython",
    "version": 3
   },
   "file_extension": ".py",
   "mimetype": "text/x-python",
   "name": "python",
   "nbconvert_exporter": "python",
   "pygments_lexer": "ipython3",
   "version": "3.9.7"
  }
 },
 "nbformat": 4,
 "nbformat_minor": 5
}